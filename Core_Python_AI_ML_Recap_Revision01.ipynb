{
  "nbformat": 4,
  "nbformat_minor": 0,
  "metadata": {
    "colab": {
      "provenance": [],
      "authorship_tag": "ABX9TyPv0alHEL3dsWUqt1WHcxmg",
      "include_colab_link": true
    },
    "kernelspec": {
      "name": "python3",
      "display_name": "Python 3"
    },
    "language_info": {
      "name": "python"
    }
  },
  "cells": [
    {
      "cell_type": "markdown",
      "metadata": {
        "id": "view-in-github",
        "colab_type": "text"
      },
      "source": [
        "<a href=\"https://colab.research.google.com/github/upadhyay-mittul/leo_29/blob/main/Core_Python_AI_ML_Recap_Revision01.ipynb\" target=\"_parent\"><img src=\"https://colab.research.google.com/assets/colab-badge.svg\" alt=\"Open In Colab\"/></a>"
      ]
    },
    {
      "cell_type": "code",
      "source": [
        "('Core Python AI-ML Recap_Revision')\n",
        "\n",
        "\n",
        "\n"
      ],
      "metadata": {
        "id": "hTQzu7Ic_aMN"
      },
      "execution_count": null,
      "outputs": []
    },
    {
      "cell_type": "code",
      "source": [
        "print('hello')"
      ],
      "metadata": {
        "id": "wViak3Lb_f-s"
      },
      "execution_count": null,
      "outputs": []
    },
    {
      "cell_type": "code",
      "source": [
        "input('enter your name')"
      ],
      "metadata": {
        "id": "nUOn0h8zEC-J"
      },
      "execution_count": null,
      "outputs": []
    },
    {
      "cell_type": "code",
      "source": [
        "name = input('enter your name: ')"
      ],
      "metadata": {
        "id": "8w40_Rr6EHgg"
      },
      "execution_count": null,
      "outputs": []
    },
    {
      "cell_type": "code",
      "source": [
        "print(name)"
      ],
      "metadata": {
        "id": "XloJ0_AQEO6m"
      },
      "execution_count": null,
      "outputs": []
    },
    {
      "cell_type": "code",
      "source": [
        "name + \" Upadhyay\""
      ],
      "metadata": {
        "id": "lO6jKxNsEXei"
      },
      "execution_count": null,
      "outputs": []
    },
    {
      "cell_type": "code",
      "source": [
        "print(*name)"
      ],
      "metadata": {
        "id": "mW6IjzhYEbf9"
      },
      "execution_count": null,
      "outputs": []
    },
    {
      "cell_type": "code",
      "source": [
        "print('M', 'i', 't', 't','u','l')"
      ],
      "metadata": {
        "id": "gfZls65mEjq0"
      },
      "execution_count": null,
      "outputs": []
    },
    {
      "cell_type": "code",
      "source": [
        "print('hello')\n",
        "print('hi')\n",
        "print('how are you?')"
      ],
      "metadata": {
        "id": "CH_tFrzfEusj"
      },
      "execution_count": null,
      "outputs": []
    },
    {
      "cell_type": "code",
      "source": [
        "print('hello', end=\" \")\n",
        "print('hi', end=\" \")\n",
        "print('how are you?')"
      ],
      "metadata": {
        "id": "ZYwKiaeWFDrH"
      },
      "execution_count": null,
      "outputs": []
    },
    {
      "cell_type": "code",
      "source": [
        "name.capitalize()"
      ],
      "metadata": {
        "id": "wBVH2m8aFQAh"
      },
      "execution_count": null,
      "outputs": []
    },
    {
      "cell_type": "code",
      "source": [
        "name.upper()"
      ],
      "metadata": {
        "id": "8RxbWQhaFsbi"
      },
      "execution_count": null,
      "outputs": []
    },
    {
      "cell_type": "code",
      "source": [
        "type(name)"
      ],
      "metadata": {
        "id": "GhsQOhEqFwX4"
      },
      "execution_count": null,
      "outputs": []
    },
    {
      "cell_type": "code",
      "source": [
        "type(5)"
      ],
      "metadata": {
        "id": "Sgm8ydIXF29y"
      },
      "execution_count": null,
      "outputs": []
    },
    {
      "cell_type": "code",
      "source": [
        "[5,9,8,7,6,5,4,1,3]"
      ],
      "metadata": {
        "id": "bJhFY3UOGJzf"
      },
      "execution_count": null,
      "outputs": []
    },
    {
      "cell_type": "code",
      "source": [
        "mylist = [5,9,8,7,6,5,4,1,3]"
      ],
      "metadata": {
        "id": "If-xjuH8GVfA"
      },
      "execution_count": null,
      "outputs": []
    },
    {
      "cell_type": "code",
      "source": [
        "mylist[1]"
      ],
      "metadata": {
        "id": "-oIgJc7mGaNg"
      },
      "execution_count": null,
      "outputs": []
    },
    {
      "cell_type": "code",
      "source": [
        "mylist[-1]"
      ],
      "metadata": {
        "id": "UU6Y5jkcGgRQ"
      },
      "execution_count": null,
      "outputs": []
    },
    {
      "cell_type": "code",
      "source": [
        "mylist[2:5]"
      ],
      "metadata": {
        "id": "XBXvQsNNGm6f"
      },
      "execution_count": null,
      "outputs": []
    },
    {
      "cell_type": "code",
      "source": [
        "for i in mylist:\n",
        "  print(i)"
      ],
      "metadata": {
        "id": "_q-cH02GG9B6"
      },
      "execution_count": null,
      "outputs": []
    },
    {
      "cell_type": "code",
      "source": [
        "for i in mylist:\n",
        "  print(i, end=\" \")"
      ],
      "metadata": {
        "id": "u1DOHMO7HhKa"
      },
      "execution_count": null,
      "outputs": []
    },
    {
      "cell_type": "code",
      "source": [
        "len(mylist)"
      ],
      "metadata": {
        "id": "utICGtYkH0ZM"
      },
      "execution_count": null,
      "outputs": []
    },
    {
      "cell_type": "code",
      "source": [
        "len(name)"
      ],
      "metadata": {
        "id": "l79ooKJ0H6JU"
      },
      "execution_count": null,
      "outputs": []
    },
    {
      "cell_type": "code",
      "source": [
        "i = 0\n",
        "while i < len(mylist):\n",
        "  print(mylist[i])\n",
        "  i += 1"
      ],
      "metadata": {
        "id": "nhQD3DL0H-SP"
      },
      "execution_count": null,
      "outputs": []
    },
    {
      "cell_type": "code",
      "source": [
        "mylist.append(99)"
      ],
      "metadata": {
        "id": "80JFVw4pIGjN"
      },
      "execution_count": null,
      "outputs": []
    },
    {
      "cell_type": "code",
      "source": [
        "mylist"
      ],
      "metadata": {
        "id": "2yf-vvRQIiL2"
      },
      "execution_count": null,
      "outputs": []
    },
    {
      "cell_type": "code",
      "source": [
        "mylist.pop()"
      ],
      "metadata": {
        "id": "ONE48O2HIvD1"
      },
      "execution_count": null,
      "outputs": []
    },
    {
      "cell_type": "code",
      "source": [
        "mylist"
      ],
      "metadata": {
        "id": "EULfLTY7I04K"
      },
      "execution_count": null,
      "outputs": []
    },
    {
      "cell_type": "code",
      "source": [
        "d = {\n",
        "    'name': 'Mittul',\n",
        "    'city': 'Ahmedabad'\n",
        "}"
      ],
      "metadata": {
        "id": "0SplT_-yI6QB"
      },
      "execution_count": null,
      "outputs": []
    },
    {
      "cell_type": "code",
      "source": [
        "d['name']"
      ],
      "metadata": {
        "id": "3JOS0hVDI__T"
      },
      "execution_count": null,
      "outputs": []
    },
    {
      "cell_type": "code",
      "source": [
        "d['city']"
      ],
      "metadata": {
        "id": "tyHZ8zTSJMx-"
      },
      "execution_count": null,
      "outputs": []
    },
    {
      "cell_type": "code",
      "source": [
        "d['name'] = 'Mittul Upadhyay'"
      ],
      "metadata": {
        "id": "RnNB-fDxJVoF"
      },
      "execution_count": null,
      "outputs": []
    },
    {
      "cell_type": "code",
      "source": [
        "d"
      ],
      "metadata": {
        "id": "7CAYRErvJroM"
      },
      "execution_count": null,
      "outputs": []
    },
    {
      "cell_type": "code",
      "source": [
        "if True:\n",
        "  print('true part')"
      ],
      "metadata": {
        "id": "53jsfKZ-KD-j"
      },
      "execution_count": null,
      "outputs": []
    },
    {
      "cell_type": "code",
      "source": [
        "if False:\n",
        "  print('true part')\n",
        "else:\n",
        "  print('false part')"
      ],
      "metadata": {
        "id": "BUC7FDKRKMbQ"
      },
      "execution_count": null,
      "outputs": []
    },
    {
      "cell_type": "code",
      "source": [
        "def hello():\n",
        "  print('hello')"
      ],
      "metadata": {
        "id": "qPisBID1KR5R"
      },
      "execution_count": null,
      "outputs": []
    },
    {
      "cell_type": "code",
      "source": [
        "hello()"
      ],
      "metadata": {
        "id": "bl79X2yiKW6Q"
      },
      "execution_count": null,
      "outputs": []
    },
    {
      "cell_type": "code",
      "source": [
        "'''hello\n",
        "hi\n",
        "how are you?'''"
      ],
      "metadata": {
        "id": "J_gJZhS4Kov5"
      },
      "execution_count": null,
      "outputs": []
    },
    {
      "cell_type": "code",
      "source": [
        "# variables\n",
        "\n",
        "a = 5"
      ],
      "metadata": {
        "id": "y257YYRKNRlJ"
      },
      "execution_count": null,
      "outputs": []
    },
    {
      "cell_type": "code",
      "source": [
        "a"
      ],
      "metadata": {
        "id": "26y9qJr3NeCa"
      },
      "execution_count": null,
      "outputs": []
    },
    {
      "cell_type": "code",
      "source": [
        "type(a)"
      ],
      "metadata": {
        "id": "UN6Km21KNkDD"
      },
      "execution_count": null,
      "outputs": []
    },
    {
      "cell_type": "code",
      "source": [
        "a"
      ],
      "metadata": {
        "id": "hbC3F3tvOIyF"
      },
      "execution_count": null,
      "outputs": []
    },
    {
      "cell_type": "code",
      "source": [
        "a += 1"
      ],
      "metadata": {
        "id": "KGdAnUqUOUlw"
      },
      "execution_count": null,
      "outputs": []
    },
    {
      "cell_type": "code",
      "source": [
        "a"
      ],
      "metadata": {
        "id": "JUw2YcI_OY9d"
      },
      "execution_count": null,
      "outputs": []
    },
    {
      "cell_type": "code",
      "source": [
        "a -= 5"
      ],
      "metadata": {
        "id": "n4JB-VLVOinm"
      },
      "execution_count": null,
      "outputs": []
    },
    {
      "cell_type": "code",
      "source": [
        "a"
      ],
      "metadata": {
        "id": "ZVzBXvWYOpyS"
      },
      "execution_count": null,
      "outputs": []
    },
    {
      "cell_type": "code",
      "source": [
        "a * 5"
      ],
      "metadata": {
        "id": "P__DQDcYOuQk"
      },
      "execution_count": null,
      "outputs": []
    },
    {
      "cell_type": "code",
      "source": [
        "a ** 5"
      ],
      "metadata": {
        "id": "dIUA69lSO2IA"
      },
      "execution_count": null,
      "outputs": []
    },
    {
      "cell_type": "code",
      "source": [
        "a"
      ],
      "metadata": {
        "id": "VKCmuERnO9E0"
      },
      "execution_count": null,
      "outputs": []
    },
    {
      "cell_type": "code",
      "source": [
        "a *= 5"
      ],
      "metadata": {
        "id": "LrcJzYMgPORr"
      },
      "execution_count": null,
      "outputs": []
    },
    {
      "cell_type": "code",
      "source": [
        "a"
      ],
      "metadata": {
        "id": "CqHaakJwPg2W"
      },
      "execution_count": null,
      "outputs": []
    },
    {
      "cell_type": "code",
      "source": [
        "a **= 5"
      ],
      "metadata": {
        "id": "rshfuM5QPlut"
      },
      "execution_count": null,
      "outputs": []
    },
    {
      "cell_type": "code",
      "source": [
        "a"
      ],
      "metadata": {
        "id": "2gc7rtauPsze"
      },
      "execution_count": null,
      "outputs": []
    },
    {
      "cell_type": "code",
      "source": [
        "a / 5"
      ],
      "metadata": {
        "id": "MjrGPTzQPxAx"
      },
      "execution_count": null,
      "outputs": []
    },
    {
      "cell_type": "code",
      "source": [
        "a // 5"
      ],
      "metadata": {
        "id": "u9pPHtJGQJrL"
      },
      "execution_count": null,
      "outputs": []
    },
    {
      "cell_type": "code",
      "source": [
        "15 / 3"
      ],
      "metadata": {
        "id": "Qpy_YegCRqGo"
      },
      "execution_count": null,
      "outputs": []
    },
    {
      "cell_type": "code",
      "source": [
        "15 // 3"
      ],
      "metadata": {
        "id": "s2-QRRkhR2de"
      },
      "execution_count": null,
      "outputs": []
    },
    {
      "cell_type": "code",
      "source": [
        "15.2 // 3"
      ],
      "metadata": {
        "id": "Q3a2fmeUSXrJ"
      },
      "execution_count": null,
      "outputs": []
    },
    {
      "cell_type": "code",
      "source": [
        "15 / 3"
      ],
      "metadata": {
        "id": "DPUeog-7Sgf7"
      },
      "execution_count": null,
      "outputs": []
    },
    {
      "cell_type": "code",
      "source": [
        "15 // 3"
      ],
      "metadata": {
        "id": "Mz1x0pD_Sq1d"
      },
      "execution_count": null,
      "outputs": []
    },
    {
      "cell_type": "code",
      "source": [
        "15.2 // 3"
      ],
      "metadata": {
        "id": "DmKcAfPcStw1"
      },
      "execution_count": null,
      "outputs": []
    },
    {
      "cell_type": "code",
      "source": [
        "5 % 3"
      ],
      "metadata": {
        "id": "uKmixFTsSx7-"
      },
      "execution_count": null,
      "outputs": []
    },
    {
      "cell_type": "code",
      "source": [
        "# comparision\n",
        "\n",
        "a"
      ],
      "metadata": {
        "id": "16Kc741TS7Yi"
      },
      "execution_count": null,
      "outputs": []
    },
    {
      "cell_type": "code",
      "source": [
        "a == 50"
      ],
      "metadata": {
        "id": "Cb-7jROkTQ7_"
      },
      "execution_count": null,
      "outputs": []
    },
    {
      "cell_type": "code",
      "source": [
        "a != 50"
      ],
      "metadata": {
        "id": "seiW3I4gTemJ"
      },
      "execution_count": null,
      "outputs": []
    },
    {
      "cell_type": "code",
      "source": [
        "a > 52"
      ],
      "metadata": {
        "id": "i7rLq5EqTkRw"
      },
      "execution_count": null,
      "outputs": []
    },
    {
      "cell_type": "code",
      "source": [
        "a < 50"
      ],
      "metadata": {
        "id": "ei9rcsmhTqYj"
      },
      "execution_count": null,
      "outputs": []
    },
    {
      "cell_type": "code",
      "source": [
        "a >= 50"
      ],
      "metadata": {
        "id": "fYqhMoJfTwmV"
      },
      "execution_count": null,
      "outputs": []
    },
    {
      "cell_type": "code",
      "source": [
        "a <= 60"
      ],
      "metadata": {
        "id": "vMEzwbIeT2hA"
      },
      "execution_count": null,
      "outputs": []
    },
    {
      "cell_type": "code",
      "source": [
        "a <= 50"
      ],
      "metadata": {
        "id": "kp93IPz0T-YM"
      },
      "execution_count": null,
      "outputs": []
    },
    {
      "cell_type": "code",
      "source": [
        "a <= 70"
      ],
      "metadata": {
        "id": "OJmhdlu5UEUs"
      },
      "execution_count": null,
      "outputs": []
    },
    {
      "cell_type": "code",
      "source": [
        "a"
      ],
      "metadata": {
        "id": "8Q40kYJ7ULZR"
      },
      "execution_count": null,
      "outputs": []
    },
    {
      "cell_type": "code",
      "source": [
        "# membership\n",
        "\n",
        "string = \"hello\""
      ],
      "metadata": {
        "id": "7kMTEVIrWAFr"
      },
      "execution_count": null,
      "outputs": []
    },
    {
      "cell_type": "code",
      "source": [
        "type(string)"
      ],
      "metadata": {
        "id": "vrwd_UPbWFra"
      },
      "execution_count": null,
      "outputs": []
    },
    {
      "cell_type": "code",
      "source": [
        "'h' in string"
      ],
      "metadata": {
        "id": "BfwQM9anWK34"
      },
      "execution_count": null,
      "outputs": []
    },
    {
      "cell_type": "code",
      "source": [
        "'h' not in string"
      ],
      "metadata": {
        "id": "i8esOVV_WWJR"
      },
      "execution_count": null,
      "outputs": []
    },
    {
      "cell_type": "code",
      "source": [
        "'x' not in string"
      ],
      "metadata": {
        "id": "10JeedkwWaOp"
      },
      "execution_count": null,
      "outputs": []
    },
    {
      "cell_type": "code",
      "source": [
        "# string\n"
      ],
      "metadata": {
        "id": "X1PcKNUTWkdt"
      },
      "execution_count": null,
      "outputs": []
    },
    {
      "cell_type": "code",
      "source": [
        "string = 'hello, welcome to Ahmedabad'"
      ],
      "metadata": {
        "id": "xMFMxlLcWx24"
      },
      "execution_count": null,
      "outputs": []
    },
    {
      "cell_type": "code",
      "source": [
        "string"
      ],
      "metadata": {
        "id": "dG3htWuSXAqB"
      },
      "execution_count": null,
      "outputs": []
    },
    {
      "cell_type": "code",
      "source": [
        "'352714890'.isnumeric()"
      ],
      "metadata": {
        "id": "1mnFdHEoXL2z"
      },
      "execution_count": null,
      "outputs": []
    },
    {
      "cell_type": "code",
      "source": [
        "'275358a'.isnumeric()"
      ],
      "metadata": {
        "id": "IgnY05oNZT1T"
      },
      "execution_count": null,
      "outputs": []
    },
    {
      "cell_type": "code",
      "source": [
        "string.isalpha()"
      ],
      "metadata": {
        "id": "Zfbxku8jZb7X"
      },
      "execution_count": null,
      "outputs": []
    },
    {
      "cell_type": "code",
      "source": [
        "'hello'.isalpha()"
      ],
      "metadata": {
        "id": "IqFuKBeGZinG"
      },
      "execution_count": null,
      "outputs": []
    },
    {
      "cell_type": "code",
      "source": [
        "'hello'.isalnum()"
      ],
      "metadata": {
        "id": "nZ-2DA5aZmsg"
      },
      "execution_count": null,
      "outputs": []
    },
    {
      "cell_type": "code",
      "source": [
        "'352714890'.isalnum()"
      ],
      "metadata": {
        "id": "MC9HJh6RZtMq"
      },
      "execution_count": null,
      "outputs": []
    },
    {
      "cell_type": "code",
      "source": [
        "'4795adf'.isalnum()"
      ],
      "metadata": {
        "id": "7r140iOJZ576"
      },
      "execution_count": null,
      "outputs": []
    },
    {
      "cell_type": "code",
      "source": [
        "string.title()"
      ],
      "metadata": {
        "id": "8Bp52o7nZ-V6"
      },
      "execution_count": null,
      "outputs": []
    },
    {
      "cell_type": "code",
      "source": [
        "'       hello       '.strip()"
      ],
      "metadata": {
        "id": "EmCiseMoaXR6"
      },
      "execution_count": null,
      "outputs": []
    },
    {
      "cell_type": "code",
      "source": [
        "# lstrip()/rstrip()"
      ],
      "metadata": {
        "id": "pOl-AmrNacmI"
      },
      "execution_count": null,
      "outputs": []
    },
    {
      "cell_type": "code",
      "source": [
        "string"
      ],
      "metadata": {
        "id": "2gy7ifXMakWz"
      },
      "execution_count": null,
      "outputs": []
    },
    {
      "cell_type": "code",
      "source": [
        "string.split()"
      ],
      "metadata": {
        "id": "SAn41qVaaoUR"
      },
      "execution_count": null,
      "outputs": []
    },
    {
      "cell_type": "code",
      "source": [
        "string.split(maxsplit=2)"
      ],
      "metadata": {
        "id": "rJEOBv6satSq"
      },
      "execution_count": null,
      "outputs": []
    },
    {
      "cell_type": "code",
      "source": [
        "string.split('x')"
      ],
      "metadata": {
        "id": "g6Z39Rhvayy6"
      },
      "execution_count": null,
      "outputs": []
    },
    {
      "cell_type": "code",
      "source": [
        "string.split('x', maxsplit=2)"
      ],
      "metadata": {
        "id": "w9l_7tvla26X"
      },
      "execution_count": null,
      "outputs": []
    },
    {
      "cell_type": "code",
      "source": [
        "## Collections - list, tuple, sets"
      ],
      "metadata": {
        "id": "fxZJKkIGbC3r"
      },
      "execution_count": null,
      "outputs": []
    },
    {
      "cell_type": "code",
      "source": [
        "mylist = list()"
      ],
      "metadata": {
        "id": "toOTADJ-df-9"
      },
      "execution_count": null,
      "outputs": []
    },
    {
      "cell_type": "code",
      "source": [
        "mylist.append(9)"
      ],
      "metadata": {
        "id": "VpTgxE7Xdn4Z"
      },
      "execution_count": null,
      "outputs": []
    },
    {
      "cell_type": "code",
      "source": [
        "mylist\n"
      ],
      "metadata": {
        "id": "JW-qZGZDdqgu"
      },
      "execution_count": null,
      "outputs": []
    },
    {
      "cell_type": "code",
      "source": [
        "mylist.append(51)"
      ],
      "metadata": {
        "id": "HVLAQf3id_3h"
      },
      "execution_count": null,
      "outputs": []
    },
    {
      "cell_type": "code",
      "source": [
        "mylist"
      ],
      "metadata": {
        "id": "Z-_wucQ2eGL0"
      },
      "execution_count": null,
      "outputs": []
    },
    {
      "cell_type": "code",
      "source": [
        "mylist.extend([2,5,4,7,6,9])"
      ],
      "metadata": {
        "id": "K0_1vqM0eKIw"
      },
      "execution_count": null,
      "outputs": []
    },
    {
      "cell_type": "code",
      "source": [
        "mylist"
      ],
      "metadata": {
        "id": "SOCAvsfyeO7n"
      },
      "execution_count": null,
      "outputs": []
    },
    {
      "cell_type": "code",
      "source": [
        "len(mylist)"
      ],
      "metadata": {
        "id": "ySBhq551eTYG"
      },
      "execution_count": null,
      "outputs": []
    },
    {
      "cell_type": "code",
      "source": [
        "mylist[2]"
      ],
      "metadata": {
        "id": "qDCgvDvHeYXl"
      },
      "execution_count": null,
      "outputs": []
    },
    {
      "cell_type": "code",
      "source": [
        "mylist.insert(2, 101)"
      ],
      "metadata": {
        "id": "vPslyMLnecG5"
      },
      "execution_count": null,
      "outputs": []
    },
    {
      "cell_type": "code",
      "source": [
        "mylist"
      ],
      "metadata": {
        "id": "SIG4mZwCegz8"
      },
      "execution_count": null,
      "outputs": []
    },
    {
      "cell_type": "code",
      "source": [
        "mylist[-1]"
      ],
      "metadata": {
        "id": "5hwokdZNekq0"
      },
      "execution_count": null,
      "outputs": []
    },
    {
      "cell_type": "code",
      "source": [
        "len(mylist)"
      ],
      "metadata": {
        "id": "BibTFAJ4eodX"
      },
      "execution_count": null,
      "outputs": []
    },
    {
      "cell_type": "code",
      "source": [
        "len(mylist)-1"
      ],
      "metadata": {
        "id": "BKECjhKPevTB"
      },
      "execution_count": null,
      "outputs": []
    },
    {
      "cell_type": "code",
      "source": [
        "mylist[len(mylist)-1]"
      ],
      "metadata": {
        "id": "QfbZ4RUGe7Uo"
      },
      "execution_count": null,
      "outputs": []
    },
    {
      "cell_type": "code",
      "source": [
        "mylist.pop()"
      ],
      "metadata": {
        "id": "y7eFvKuXfNm2"
      },
      "execution_count": null,
      "outputs": []
    },
    {
      "cell_type": "code",
      "source": [
        "mylist.pop(2)"
      ],
      "metadata": {
        "id": "KLxgI5vifXDK"
      },
      "execution_count": null,
      "outputs": []
    },
    {
      "cell_type": "code",
      "source": [
        "mylist2 = mylist"
      ],
      "metadata": {
        "id": "aO6OkkfbfZ2c"
      },
      "execution_count": null,
      "outputs": []
    },
    {
      "cell_type": "code",
      "source": [
        "mylist"
      ],
      "metadata": {
        "id": "aSquuTj6fdqH"
      },
      "execution_count": null,
      "outputs": []
    },
    {
      "cell_type": "code",
      "source": [
        "mylist.pop()"
      ],
      "metadata": {
        "id": "-wqypns1fg9i"
      },
      "execution_count": null,
      "outputs": []
    },
    {
      "cell_type": "code",
      "source": [
        "mylist"
      ],
      "metadata": {
        "id": "UnLQIGLQfujp"
      },
      "execution_count": null,
      "outputs": []
    },
    {
      "cell_type": "code",
      "source": [
        "mylist2"
      ],
      "metadata": {
        "id": "uJCFa_grf1OM"
      },
      "execution_count": null,
      "outputs": []
    },
    {
      "cell_type": "code",
      "source": [
        "mylist3 = mylist.copy()"
      ],
      "metadata": {
        "id": "24-dohQSf58m"
      },
      "execution_count": null,
      "outputs": []
    },
    {
      "cell_type": "code",
      "source": [
        "mylist3"
      ],
      "metadata": {
        "id": "yvhgUJ_vgA9m"
      },
      "execution_count": null,
      "outputs": []
    },
    {
      "cell_type": "code",
      "source": [
        "mylist.append(101)"
      ],
      "metadata": {
        "id": "eyennFbGgD95"
      },
      "execution_count": null,
      "outputs": []
    },
    {
      "cell_type": "code",
      "source": [
        "mylist"
      ],
      "metadata": {
        "id": "xkg3HLeWgRR6"
      },
      "execution_count": null,
      "outputs": []
    },
    {
      "cell_type": "code",
      "source": [
        "mylist"
      ],
      "metadata": {
        "id": "WEOkCy4TgVPQ"
      },
      "execution_count": null,
      "outputs": []
    },
    {
      "cell_type": "code",
      "source": [
        "mylist.clear()"
      ],
      "metadata": {
        "id": "DkILcFE0gqKW"
      },
      "execution_count": null,
      "outputs": []
    },
    {
      "cell_type": "code",
      "source": [
        "mylist"
      ],
      "metadata": {
        "id": "MsU7vql8gtnZ"
      },
      "execution_count": null,
      "outputs": []
    },
    {
      "cell_type": "code",
      "source": [
        "t = (25,85)"
      ],
      "metadata": {
        "id": "06A_XgstgxOo"
      },
      "execution_count": null,
      "outputs": []
    },
    {
      "cell_type": "code",
      "source": [
        "t"
      ],
      "metadata": {
        "id": "Eoco9Itog4h6"
      },
      "execution_count": null,
      "outputs": []
    },
    {
      "cell_type": "code",
      "source": [
        "t = list(t)"
      ],
      "metadata": {
        "id": "hh7ocPHwg9cX"
      },
      "execution_count": null,
      "outputs": []
    },
    {
      "cell_type": "code",
      "source": [
        "type(t)"
      ],
      "metadata": {
        "id": "ZoJ9aQQWhFGu"
      },
      "execution_count": null,
      "outputs": []
    },
    {
      "cell_type": "code",
      "source": [
        "t"
      ],
      "metadata": {
        "id": "KvZ5DyQrhKV7"
      },
      "execution_count": null,
      "outputs": []
    },
    {
      "cell_type": "code",
      "source": [
        "t.append(54)"
      ],
      "metadata": {
        "id": "ZRDIIzgMhQNY"
      },
      "execution_count": null,
      "outputs": []
    },
    {
      "cell_type": "code",
      "source": [
        "t"
      ],
      "metadata": {
        "id": "gS6BD4PchUoo"
      },
      "execution_count": null,
      "outputs": []
    },
    {
      "cell_type": "code",
      "source": [
        "t = tuple(t)"
      ],
      "metadata": {
        "id": "akTfVDDdhZuY"
      },
      "execution_count": null,
      "outputs": []
    },
    {
      "cell_type": "code",
      "source": [
        "t"
      ],
      "metadata": {
        "id": "xaWsWiXHhdfy"
      },
      "execution_count": null,
      "outputs": []
    },
    {
      "cell_type": "code",
      "source": [
        "type(t)"
      ],
      "metadata": {
        "id": "FQBfInjkhnXR"
      },
      "execution_count": null,
      "outputs": []
    },
    {
      "cell_type": "code",
      "source": [
        "###Conditional Statements####\n",
        "1. ('Comparision Operators')\n",
        "2. ('Membership Operators')\n",
        "3. ('Logical Operators') ('to make groupped conditions')\n",
        "\n",
        "\n"
      ],
      "metadata": {
        "id": "n5ccpNhrmCg3"
      },
      "execution_count": null,
      "outputs": []
    },
    {
      "cell_type": "code",
      "source": [
        "# simple if\n",
        "\n",
        "# bool\n",
        "\n",
        "t = True # 1 or any number except 0\n",
        "f = False # 0 or empty string '', [], {}\n",
        "\n",
        "#######################\n",
        "\n",
        "# how to convert number to boolean\n",
        "\n",
        "bool(1)"
      ],
      "metadata": {
        "id": "m5dPi5igmO29"
      },
      "execution_count": null,
      "outputs": []
    },
    {
      "cell_type": "code",
      "source": [
        "bool(0)"
      ],
      "metadata": {
        "id": "lH6OBDEVoKOc"
      },
      "execution_count": null,
      "outputs": []
    },
    {
      "cell_type": "code",
      "source": [
        "bool(-5)"
      ],
      "metadata": {
        "id": "lqTLwBdroTN1"
      },
      "execution_count": null,
      "outputs": []
    },
    {
      "cell_type": "code",
      "source": [
        "bool('')"
      ],
      "metadata": {
        "id": "4rmtEAhuoYJv"
      },
      "execution_count": null,
      "outputs": []
    },
    {
      "cell_type": "code",
      "source": [
        "bool('hello')"
      ],
      "metadata": {
        "id": "mryFnzK9oqgB"
      },
      "execution_count": null,
      "outputs": []
    },
    {
      "cell_type": "code",
      "source": [
        "bool([])"
      ],
      "metadata": {
        "id": "xXIPT84Uo9PN"
      },
      "execution_count": null,
      "outputs": []
    },
    {
      "cell_type": "code",
      "source": [
        "bool({})"
      ],
      "metadata": {
        "id": "D6NXr5d_pBw6"
      },
      "execution_count": null,
      "outputs": []
    },
    {
      "cell_type": "code",
      "source": [
        "len('hello')"
      ],
      "metadata": {
        "id": "BaVrWnCMpLi_"
      },
      "execution_count": null,
      "outputs": []
    },
    {
      "cell_type": "code",
      "source": [
        "len([5,4,6,9])"
      ],
      "metadata": {
        "id": "0Z1Sdu1XpX3r"
      },
      "execution_count": null,
      "outputs": []
    },
    {
      "cell_type": "code",
      "source": [
        "len({'key':'value'})"
      ],
      "metadata": {
        "id": "PbnqZBbEpc2x"
      },
      "execution_count": null,
      "outputs": []
    },
    {
      "cell_type": "code",
      "source": [
        "len('')"
      ],
      "metadata": {
        "id": "D5mVEXuBpjrE"
      },
      "execution_count": null,
      "outputs": []
    },
    {
      "cell_type": "code",
      "source": [
        "if True:\n",
        "  print('true')\n",
        "else:\n",
        "  print('false')"
      ],
      "metadata": {
        "id": "-QOZXiOkpqK7"
      },
      "execution_count": null,
      "outputs": []
    },
    {
      "cell_type": "code",
      "source": [
        "name = input('enter your name: ')\n",
        "\n",
        "print(name)"
      ],
      "metadata": {
        "id": "tr5n1qX0py6k"
      },
      "execution_count": null,
      "outputs": []
    },
    {
      "cell_type": "code",
      "source": [
        "name = input('enter your name: ')\n",
        "\n",
        "print(f\"Hello {name}!\")"
      ],
      "metadata": {
        "id": "vJzL8iaDp6Bo"
      },
      "execution_count": null,
      "outputs": []
    },
    {
      "cell_type": "code",
      "source": [
        "name = input('enter your name: ')\n",
        "\n",
        "if name:\n",
        "  print(f\"Hello {name}!\")\n",
        "else:\n",
        "  print('you have not enter anything. please try again.')"
      ],
      "metadata": {
        "id": "l2mf3kR0qFbN"
      },
      "execution_count": null,
      "outputs": []
    },
    {
      "cell_type": "code",
      "source": [
        "# age eligibility\n",
        "\n",
        "age = input('enter your age: ')\n",
        "min_req_age = 18\n",
        "\n",
        "if age >= min_req_age:\n",
        "  print('you are eligible.')\n",
        "else:\n",
        "  print('sorry! you are not eligible.')"
      ],
      "metadata": {
        "id": "H9jpqMAhqXCX"
      },
      "execution_count": null,
      "outputs": []
    },
    {
      "cell_type": "code",
      "source": [
        "age = int(input('enter your age: '))\n",
        "min_req_age = 18\n",
        "\n",
        "if age >= min_req_age:\n",
        "  print('you are eligible.')\n",
        "else:\n",
        "  print('sorry! you are not eligible.')"
      ],
      "metadata": {
        "id": "8jPvvkvkqh8i"
      },
      "execution_count": null,
      "outputs": []
    },
    {
      "cell_type": "code",
      "source": [
        "# nested if\n",
        "\n",
        "age = input('enter your age: ')\n",
        "min_req_age = 18\n",
        "\n",
        "if age.isnumeric():\n",
        "  age = int(age) # type casting string to int\n",
        "  if age >= min_req_age:\n",
        "    print('you are eligible.')\n",
        "  else:\n",
        "    print('sorry! you are not eligible.')\n",
        "else:\n",
        "  print('Error! invalid input.')"
      ],
      "metadata": {
        "id": "38bttGrFq35c"
      },
      "execution_count": null,
      "outputs": []
    },
    {
      "cell_type": "code",
      "source": [
        "# multilevel condition\n",
        "\n",
        "num = int(input('enter number (1-5): '))\n",
        "\n",
        "if num == 1:\n",
        "  print('one')\n",
        "elif num == 2:\n",
        "  print('two')\n",
        "elif num == 3:\n",
        "  print('three')\n",
        "elif num == 4:\n",
        "  print('four')\n",
        "elif num == 5:\n",
        "  print('five')\n",
        "else:\n",
        "  print('invalid input.')"
      ],
      "metadata": {
        "id": "gi2lo8iNrRFz"
      },
      "execution_count": null,
      "outputs": []
    },
    {
      "cell_type": "code",
      "source": [
        "# groupped conditions\n",
        "\n",
        "True or False"
      ],
      "metadata": {
        "id": "oDkPCorrsEBd"
      },
      "execution_count": null,
      "outputs": []
    },
    {
      "cell_type": "code",
      "source": [
        "'' or 'hello'"
      ],
      "metadata": {
        "id": "6TuroWFksLKH"
      },
      "execution_count": null,
      "outputs": []
    },
    {
      "cell_type": "code",
      "source": [
        "True and False"
      ],
      "metadata": {
        "id": "G4bn-Ax2sPhw"
      },
      "execution_count": null,
      "outputs": []
    },
    {
      "cell_type": "code",
      "source": [
        "True or False"
      ],
      "metadata": {
        "id": "-3lFaufVsU_k"
      },
      "execution_count": null,
      "outputs": []
    },
    {
      "cell_type": "code",
      "source": [
        "age = int(input('enter your age: '))\n",
        "min_req_age = 18\n",
        "\n",
        "doc = input('enter your doc: ')\n",
        "req_doc = 'adhar'\n",
        "\n",
        "if age >= min_req_age and doc == req_doc:\n",
        "  print('you are eligible.')\n",
        "else:\n",
        "  print('sorry! you are not eligible.')"
      ],
      "metadata": {
        "id": "HxgjJNPbsfcr"
      },
      "execution_count": null,
      "outputs": []
    },
    {
      "cell_type": "code",
      "source": [
        "# membership operators\n",
        "\n",
        "'h' in 'hello'"
      ],
      "metadata": {
        "id": "BAy8FkhasrwB"
      },
      "execution_count": null,
      "outputs": []
    },
    {
      "cell_type": "code",
      "source": [
        "if 'h' in 'hello':\n",
        "  print('yes')"
      ],
      "metadata": {
        "id": "OTZDw8-Ks6AS"
      },
      "execution_count": null,
      "outputs": []
    },
    {
      "cell_type": "code",
      "source": [
        "age = int(input('enter your age: '))\n",
        "min_req_age = 18\n",
        "\n",
        "doc = input('enter your doc: ')\n",
        "req_docs = ['adhar', 'pan', 'marksheet']\n",
        "\n",
        "if age >= min_req_age and doc in req_docs:\n",
        "  print('you are eligible.')\n",
        "else:\n",
        "  print('sorry! you are not eligible.')"
      ],
      "metadata": {
        "id": "pRBrKFyttAki"
      },
      "execution_count": null,
      "outputs": []
    },
    {
      "cell_type": "code",
      "source": [
        "age = int(input('enter your age: '))\n",
        "min_req_age = 18\n",
        "\n",
        "doc = input('enter your doc: ')\n",
        "req_docs = ['adhar', 'pan', 'marksheet']\n",
        "\n",
        "if (age >= min_req_age) and (doc in req_docs):\n",
        "  print('you are eligible.')\n",
        "else:\n",
        "  print(f'sorry! you are not eligible. please apply after {min_req_age-age} year(s)')"
      ],
      "metadata": {
        "id": "bC61T23DtJop"
      },
      "execution_count": null,
      "outputs": []
    },
    {
      "cell_type": "code",
      "source": [
        "('Looping and Control Statements')\n",
        "\n",
        "\n"
      ],
      "metadata": {
        "id": "N4nq3ABNta52"
      },
      "execution_count": null,
      "outputs": []
    },
    {
      "cell_type": "code",
      "source": [
        "name = 'Mittul'"
      ],
      "metadata": {
        "id": "O58benCfsA48"
      },
      "execution_count": null,
      "outputs": []
    },
    {
      "cell_type": "code",
      "source": [
        "for i in name:\n",
        "  print(i)"
      ],
      "metadata": {
        "id": "JQLaHTCFsUjB"
      },
      "execution_count": null,
      "outputs": []
    },
    {
      "cell_type": "code",
      "source": [
        "for i in name:\n",
        "  print(i, end=\" \")"
      ],
      "metadata": {
        "id": "sq0GNQOksZN7"
      },
      "execution_count": null,
      "outputs": []
    },
    {
      "cell_type": "code",
      "source": [
        "# * notation\n",
        "\n",
        "print(*name) # print('M', 'i', 't', 't', 'u', 'l')"
      ],
      "metadata": {
        "id": "vNO-43sMsetF"
      },
      "execution_count": null,
      "outputs": []
    },
    {
      "cell_type": "code",
      "source": [
        "# range(start=0, stop=n-1, step=1)\n",
        "\n",
        "for i in range(10):\n",
        "  print(i)"
      ],
      "metadata": {
        "id": "-Po42QIws170"
      },
      "execution_count": null,
      "outputs": []
    },
    {
      "cell_type": "code",
      "source": [
        "for i in range(0, 10, 3):\n",
        "  print(i)"
      ],
      "metadata": {
        "id": "BhqTyTsitCqe"
      },
      "execution_count": null,
      "outputs": []
    },
    {
      "cell_type": "code",
      "source": [
        "for i in range(10, 0, -1):\n",
        "  print(i)"
      ],
      "metadata": {
        "id": "X7RMw4FmtMHr"
      },
      "execution_count": null,
      "outputs": []
    },
    {
      "cell_type": "code",
      "source": [
        "for i in range(1, 16):\n",
        "  print(i)"
      ],
      "metadata": {
        "id": "2pTrqjfrtTLN"
      },
      "execution_count": null,
      "outputs": []
    },
    {
      "cell_type": "code",
      "source": [
        "n = 9\n",
        "\n",
        "print(n)"
      ],
      "metadata": {
        "id": "-XKvrwLItgJa"
      },
      "execution_count": null,
      "outputs": []
    },
    {
      "cell_type": "code",
      "source": [
        "for i in range(1, 16):\n",
        "  print(i * n)"
      ],
      "metadata": {
        "id": "rzoh6ueJts6n"
      },
      "execution_count": null,
      "outputs": []
    },
    {
      "cell_type": "code",
      "source": [
        "# 9 * 1 = 9\n",
        "n = 9\n",
        "for i in range(1, 16):\n",
        "  print(f\"{n} * {i} = {n*i}\")"
      ],
      "metadata": {
        "id": "h6Ow-qj0tyR5"
      },
      "execution_count": null,
      "outputs": []
    },
    {
      "cell_type": "code",
      "source": [
        "# 9 * 01 = 9\n",
        "# ......\n",
        "# 9 * 10 = 90\n",
        "\n",
        "for i in range(1, 16):\n",
        "  if i < 10:\n",
        "    print(f\"0{i}\")\n",
        "  else:\n",
        "    print(i)"
      ],
      "metadata": {
        "id": "8EBU4DX7uHAT"
      },
      "execution_count": null,
      "outputs": []
    },
    {
      "cell_type": "code",
      "source": [
        "n = 9\n",
        "for i in range(1, 16):\n",
        "  result = n * i\n",
        "  res_str = str(result)\n",
        "  if len(res_str) < 2:\n",
        "    print(f\"0{result}\")\n",
        "  else:\n",
        "    print(result)"
      ],
      "metadata": {
        "id": "WcXuj3ASuZSS"
      },
      "execution_count": null,
      "outputs": []
    },
    {
      "cell_type": "code",
      "source": [
        "n = 13\n",
        "for i in range(1, 20):\n",
        "  last_res = n * 10\n",
        "  last_res_len = len(str(last_res))\n",
        "  act_result = n * i\n",
        "\n",
        "  act_result_str = str(act_result)\n",
        "\n",
        "  final = act_result_str.zfill(last_res_len)\n",
        "  print(final)"
      ],
      "metadata": {
        "id": "uhvLAY6-ur9L"
      },
      "execution_count": null,
      "outputs": []
    },
    {
      "cell_type": "code",
      "source": [
        "n = 116\n",
        "for i in range(1, 20):\n",
        "  last_res = n * 10\n",
        "  last_res_len = len(str(last_res))\n",
        "  act_result = n * i\n",
        "\n",
        "  act_result_str = str(act_result)\n",
        "  act_result_str_len = len(act_result_str)\n",
        "\n",
        "  if act_result_str_len < last_res_len:\n",
        "    final = f\"0{act_result}\"\n",
        "    print(final)\n",
        "  else:\n",
        "    print(act_result)"
      ],
      "metadata": {
        "id": "4Q8bytWcu4ng"
      },
      "execution_count": null,
      "outputs": []
    },
    {
      "cell_type": "code",
      "source": [
        "n = 21\n",
        "stop = 51\n",
        "for i in range(1, stop+1):\n",
        "  last_res = n * stop\n",
        "  last_res_len = len(str(last_res))\n",
        "  act_result = n * i\n",
        "\n",
        "  act_result_str = str(act_result)\n",
        "  act_result_str_len = len(act_result_str)\n",
        "  zeroes = '0' * (last_res_len - act_result_str_len)\n",
        "\n",
        "  final = f\"{zeroes}{act_result}\"\n",
        "  print(final)"
      ],
      "metadata": {
        "id": "XmiIOqv3vHCj"
      },
      "execution_count": null,
      "outputs": []
    },
    {
      "cell_type": "code",
      "source": [
        "# while loop\n",
        "i = 0\n",
        "while i < 10:\n",
        "  print(i)\n",
        "  i += 3"
      ],
      "metadata": {
        "id": "_q7JFCxIvU-9"
      },
      "execution_count": null,
      "outputs": []
    },
    {
      "cell_type": "code",
      "source": [
        "i = 9\n",
        "while i >= 0:\n",
        "  print(i)\n",
        "  i -= 5"
      ],
      "metadata": {
        "id": "bvE2ZVe0vvzT"
      },
      "execution_count": null,
      "outputs": []
    },
    {
      "cell_type": "code",
      "source": [
        "i = 0\n",
        "while i < 10:\n",
        "  if i % 5 == 0:\n",
        "    print(i)\n",
        "  i += 1"
      ],
      "metadata": {
        "id": "BGceO9Ftv67n"
      },
      "execution_count": null,
      "outputs": []
    },
    {
      "cell_type": "code",
      "source": [
        "i = 0\n",
        "while i < 10:\n",
        "  if i % 3 == 0:\n",
        "    print(i)\n",
        "  i += 1"
      ],
      "metadata": {
        "id": "F4coB6dhwib8"
      },
      "execution_count": null,
      "outputs": []
    },
    {
      "cell_type": "code",
      "source": [
        "for i in range(0, 15, 3):\n",
        "  print(i)"
      ],
      "metadata": {
        "id": "ylw7f4tzwwO7"
      },
      "execution_count": null,
      "outputs": []
    },
    {
      "cell_type": "code",
      "source": [
        "for i in range(19):\n",
        "  if i % 3 == 0:\n",
        "    print(i)"
      ],
      "metadata": {
        "id": "5Ob9unW8xKk-"
      },
      "execution_count": null,
      "outputs": []
    },
    {
      "cell_type": "code",
      "source": [
        "for i in range(19):\n",
        "  print(i)\n",
        "else:\n",
        "  print('done')"
      ],
      "metadata": {
        "id": "I_xTfb5NxSji"
      },
      "execution_count": null,
      "outputs": []
    },
    {
      "cell_type": "code",
      "source": [
        "# control statements\n",
        "\n",
        "# break\n",
        "\n",
        "for i in range(19):\n",
        "  if i == 7:\n",
        "    break\n",
        "  print(i)"
      ],
      "metadata": {
        "id": "tvFbnwplxfx5"
      },
      "execution_count": null,
      "outputs": []
    },
    {
      "cell_type": "code",
      "source": [
        "for i in range(20):\n",
        "  if i == 5:\n",
        "    continue\n",
        "  print(i)"
      ],
      "metadata": {
        "id": "XluFJiMyxuLr"
      },
      "execution_count": null,
      "outputs": []
    },
    {
      "cell_type": "code",
      "source": [
        "if True:\n",
        "  pass"
      ],
      "metadata": {
        "id": "a5X5lZNdyIYh"
      },
      "execution_count": null,
      "outputs": []
    },
    {
      "cell_type": "code",
      "source": [
        "# count(value)\n",
        "\n",
        "name"
      ],
      "metadata": {
        "id": "_alRbIp0yP8J"
      },
      "execution_count": null,
      "outputs": []
    },
    {
      "cell_type": "code",
      "source": [
        "name.count('t')"
      ],
      "metadata": {
        "id": "iaBrmqsiyeGA"
      },
      "execution_count": null,
      "outputs": []
    },
    {
      "cell_type": "code",
      "source": [
        "c = 0\n",
        "for i in name:\n",
        "  if i == 't':\n",
        "    c += 1"
      ],
      "metadata": {
        "id": "Xdc0KimRykRi"
      },
      "execution_count": null,
      "outputs": []
    },
    {
      "cell_type": "code",
      "source": [
        "c"
      ],
      "metadata": {
        "id": "Sby2R_X_yt55"
      },
      "execution_count": null,
      "outputs": []
    },
    {
      "cell_type": "code",
      "source": [
        "# ord(char) - ordinal number knows as ascii code\n",
        "\n",
        "ord('m')"
      ],
      "metadata": {
        "id": "NykaF8hkzMLk"
      },
      "execution_count": null,
      "outputs": []
    },
    {
      "cell_type": "code",
      "source": [
        "ord('z')"
      ],
      "metadata": {
        "id": "OHrOtPv3zXo6"
      },
      "execution_count": null,
      "outputs": []
    },
    {
      "cell_type": "code",
      "source": [
        "ord('a')"
      ],
      "metadata": {
        "id": "yrIXSgT6zfLE"
      },
      "execution_count": null,
      "outputs": []
    },
    {
      "cell_type": "code",
      "source": [
        "ord('a') - ord('A')"
      ],
      "metadata": {
        "id": "AEIb4Vuyzivl"
      },
      "execution_count": null,
      "outputs": []
    },
    {
      "cell_type": "code",
      "source": [
        "ord('m') - ord('M')"
      ],
      "metadata": {
        "id": "pNPjZempzpET"
      },
      "execution_count": null,
      "outputs": []
    },
    {
      "cell_type": "code",
      "source": [
        "ord('z') - ord('Z')"
      ],
      "metadata": {
        "id": "_k0_lCWPzxlA"
      },
      "execution_count": null,
      "outputs": []
    },
    {
      "cell_type": "code",
      "source": [
        "# chr(ascii code)\n",
        "\n",
        "chr(99)"
      ],
      "metadata": {
        "id": "2tiwycCHz4Hx"
      },
      "execution_count": null,
      "outputs": []
    },
    {
      "cell_type": "code",
      "source": [
        "chr(55)"
      ],
      "metadata": {
        "id": "RAlxb94K0A5Q"
      },
      "execution_count": null,
      "outputs": []
    },
    {
      "cell_type": "code",
      "source": [
        "chr(13)"
      ],
      "metadata": {
        "id": "vZOf_jbC0GHq"
      },
      "execution_count": null,
      "outputs": []
    },
    {
      "cell_type": "code",
      "source": [
        "chr(107)"
      ],
      "metadata": {
        "id": "AmEBzF6c0LLQ"
      },
      "execution_count": null,
      "outputs": []
    },
    {
      "cell_type": "code",
      "source": [
        "chr(29)"
      ],
      "metadata": {
        "id": "9GZmnECq0QFP"
      },
      "execution_count": null,
      "outputs": []
    },
    {
      "cell_type": "code",
      "source": [
        "chr(1)"
      ],
      "metadata": {
        "id": "PAY1xUQt0bov"
      },
      "execution_count": null,
      "outputs": []
    },
    {
      "cell_type": "code",
      "source": [
        "for i in range(15,121):\n",
        "  print(chr(i))"
      ],
      "metadata": {
        "id": "ZIUCLl3M0gfO"
      },
      "execution_count": null,
      "outputs": []
    },
    {
      "cell_type": "code",
      "source": [
        "for i in 'hello':\n",
        "  print(ord(i))"
      ],
      "metadata": {
        "id": "iaMUnUdd02RG"
      },
      "execution_count": null,
      "outputs": []
    },
    {
      "cell_type": "code",
      "source": [
        "for i in 'hello':\n",
        "  print(ord(i) - 56)"
      ],
      "metadata": {
        "id": "rWzDt_ie1cKe"
      },
      "execution_count": null,
      "outputs": []
    },
    {
      "cell_type": "code",
      "source": [
        "# lower to upper\n",
        "for i in 'hello':\n",
        "  diff = ord(i) - 56\n",
        "  print(chr(diff))"
      ],
      "metadata": {
        "id": "mH4UixEo1lSg"
      },
      "execution_count": null,
      "outputs": []
    },
    {
      "cell_type": "code",
      "source": [
        "'hello' + 'world'"
      ],
      "metadata": {
        "id": "Cgpgdfjp1wJR"
      },
      "execution_count": null,
      "outputs": []
    },
    {
      "cell_type": "code",
      "source": [
        "a = ''"
      ],
      "metadata": {
        "id": "_CNTtZg2EPUw"
      },
      "execution_count": null,
      "outputs": []
    },
    {
      "cell_type": "code",
      "source": [
        "a += 'hello'"
      ],
      "metadata": {
        "id": "8lFnhTVOES2y"
      },
      "execution_count": null,
      "outputs": []
    },
    {
      "cell_type": "code",
      "source": [
        "a"
      ],
      "metadata": {
        "id": "MpJ1c1ONEpwF"
      },
      "execution_count": null,
      "outputs": []
    },
    {
      "cell_type": "code",
      "source": [
        "s = ''\n",
        "for i in 'hello':\n",
        "  diff = ord(i) - 32\n",
        "  s += chr(diff)"
      ],
      "metadata": {
        "id": "6S5cAt7QFl4S"
      },
      "execution_count": null,
      "outputs": []
    },
    {
      "cell_type": "code",
      "source": [
        "s"
      ],
      "metadata": {
        "id": "Pu8agZDbFtHv"
      },
      "execution_count": null,
      "outputs": []
    },
    {
      "cell_type": "code",
      "source": [
        "s = []\n",
        "for i in 'hello':\n",
        "  diff = ord(i) - 32\n",
        "  s.append(chr(diff))"
      ],
      "metadata": {
        "id": "wl7ZqzlSFxkm"
      },
      "execution_count": null,
      "outputs": []
    },
    {
      "cell_type": "code",
      "source": [
        "s"
      ],
      "metadata": {
        "id": "CZCffGQDGB2j"
      },
      "execution_count": null,
      "outputs": []
    },
    {
      "cell_type": "code",
      "source": [
        "''.join(s)"
      ],
      "metadata": {
        "id": "tSO1-FN5GMiP"
      },
      "execution_count": null,
      "outputs": []
    },
    {
      "cell_type": "code",
      "source": [
        "s = ''\n",
        "for i in 'hello':\n",
        "  diff = ord(i) - 32\n",
        "  s.append(chr(diff))"
      ],
      "metadata": {
        "id": "l-4C8sudGQvS"
      },
      "execution_count": null,
      "outputs": []
    },
    {
      "cell_type": "code",
      "source": [
        "# upper to lower\n",
        "for i in 'HELLO':\n",
        "  diff = ord(i) + 32\n",
        "  print(chr(diff))"
      ],
      "metadata": {
        "id": "VpkgHP5NGVHh"
      },
      "execution_count": null,
      "outputs": []
    },
    {
      "cell_type": "code",
      "source": [
        "'hello'.capitalize()"
      ],
      "metadata": {
        "id": "KvtLsFUvGkSW"
      },
      "execution_count": null,
      "outputs": []
    },
    {
      "cell_type": "code",
      "source": [
        "name = 'Mittul'"
      ],
      "metadata": {
        "id": "LWDKaGskGqeW"
      },
      "execution_count": null,
      "outputs": []
    },
    {
      "cell_type": "code",
      "source": [
        "name[0]"
      ],
      "metadata": {
        "id": "umFV0genGxeF"
      },
      "execution_count": null,
      "outputs": []
    },
    {
      "cell_type": "code",
      "source": [
        "ord(name[0])"
      ],
      "metadata": {
        "id": "1zl5d5vcG803"
      },
      "execution_count": null,
      "outputs": []
    },
    {
      "cell_type": "code",
      "source": [
        "ord(name[0]) - 32"
      ],
      "metadata": {
        "id": "JEIk-MrnHMnI"
      },
      "execution_count": null,
      "outputs": []
    },
    {
      "cell_type": "code",
      "source": [
        "chr(45)"
      ],
      "metadata": {
        "id": "-DkpafgGHSGy"
      },
      "execution_count": null,
      "outputs": []
    },
    {
      "cell_type": "code",
      "source": [
        "'HeLLo'.swapcase()"
      ],
      "metadata": {
        "id": "x-EBnMFTH9-B"
      },
      "execution_count": null,
      "outputs": []
    },
    {
      "cell_type": "code",
      "source": [
        "# list\n",
        "\n",
        "numbers = [3,9,10,4,7,5,8,1,2,6]"
      ],
      "metadata": {
        "id": "AdidpYc0JKco"
      },
      "execution_count": null,
      "outputs": []
    },
    {
      "cell_type": "code",
      "source": [
        "for i in numbers:\n",
        "  print(i)"
      ],
      "metadata": {
        "id": "BRqdOAuhJftc"
      },
      "execution_count": null,
      "outputs": []
    },
    {
      "cell_type": "code",
      "source": [
        "t = object\n",
        "for i in range(len(numbers)):\n",
        "  print(i)"
      ],
      "metadata": {
        "id": "s_TZXQB1JtQ0"
      },
      "execution_count": null,
      "outputs": []
    },
    {
      "cell_type": "code",
      "source": [
        "numbers"
      ],
      "metadata": {
        "id": "8Fb2KrzpJxcb"
      },
      "execution_count": null,
      "outputs": []
    },
    {
      "cell_type": "code",
      "source": [
        "numbers = [3,9,10,4,7,5,8,1,2,]\n",
        "t = object\n",
        "for n in numbers:\n",
        "  t = n\n",
        "  for i in range(len(numbers)):\n",
        "    if n == t:\n",
        "        del numbers[i]\n",
        "\n",
        "print(numbers)"
      ],
      "metadata": {
        "id": "fbG6kBu4J_As"
      },
      "execution_count": null,
      "outputs": []
    },
    {
      "cell_type": "code",
      "source": [
        "numbers"
      ],
      "metadata": {
        "id": "PfBJqjxeKELa"
      },
      "execution_count": null,
      "outputs": []
    },
    {
      "cell_type": "code",
      "source": [
        "numbers = [3,9,10,4,7,5,8,1,2,]\n",
        "\n",
        "for n in numbers:\n",
        "  t = object\n",
        "  for i in range(len(numbers)):\n",
        "    if n == t:\n",
        "      del numbers[i]\n",
        "    t = numbers[len(numbers)-1-i]\n",
        "\n",
        "print(numbers)"
      ],
      "metadata": {
        "id": "kZxJ4XY6KetS"
      },
      "execution_count": null,
      "outputs": []
    },
    {
      "cell_type": "code",
      "source": [
        "numbers = [3,9,10,4,7,5,8,1,2]\n",
        "\n",
        "for n in numbers:\n",
        "  for i in range(len(numbers)-1, -1, -1):\n",
        "    if n == numbers[i]:\n",
        "      del numbers[i]\n",
        "\n",
        "print(numbers)"
      ],
      "metadata": {
        "id": "-zFho82yK8e7"
      },
      "execution_count": null,
      "outputs": []
    },
    {
      "cell_type": "code",
      "source": [
        "numbers"
      ],
      "metadata": {
        "id": "V6k_UogULFgj"
      },
      "execution_count": null,
      "outputs": []
    },
    {
      "cell_type": "code",
      "source": [
        "numbers = [3,9,10,4,7,5,8,1,2]\n",
        "\n",
        "for n in numbers:\n",
        "  t = object\n",
        "  for i in range(len(numbers)):\n",
        "    if n == t:\n",
        "      del numbers[i]\n",
        "    t = numbers[len(numbers)-1-i]\n",
        "\n",
        "print(numbers)"
      ],
      "metadata": {
        "id": "cjMFudhoLNTK"
      },
      "execution_count": null,
      "outputs": []
    },
    {
      "cell_type": "code",
      "source": [
        "numbers = [3,9,10,4,7,5,8,1,2]\n",
        "t = numbers[0]\n",
        "for n in numbers:\n",
        "  for i in range(len(numbers)):\n",
        "    if n == numbers[len(numbers)-1-i]:\n",
        "      del numbers[i]\n",
        "\n",
        "print(numbers)"
      ],
      "metadata": {
        "id": "FJwxDHS9Lnp_"
      },
      "execution_count": null,
      "outputs": []
    },
    {
      "cell_type": "code",
      "source": [
        "numbers"
      ],
      "metadata": {
        "id": "nNJinLOyLyR4"
      },
      "execution_count": null,
      "outputs": []
    },
    {
      "cell_type": "code",
      "source": [
        "numbers = [3,9,10,4,7,5,8,1,2]\n",
        "\n",
        "for n in numbers:\n",
        "  c = numbers.count(n)\n",
        "  if c > 1:\n",
        "    del numbers[numbers.index(n)]\n",
        "\n",
        "print(numbers)"
      ],
      "metadata": {
        "id": "-Kf6fRsjMxle"
      },
      "execution_count": null,
      "outputs": []
    },
    {
      "cell_type": "code",
      "source": [
        "numbers = [3,9,10,4,7,5,8,1,2]\n",
        "nums = []\n",
        "\n",
        "for i in numbers:\n",
        "  if i not in nums:\n",
        "    nums.append(i)\n",
        "\n",
        "print(nums)"
      ],
      "metadata": {
        "id": "CDpQz0bCM-_j"
      },
      "execution_count": null,
      "outputs": []
    },
    {
      "cell_type": "code",
      "source": [
        "# append(val)\n",
        "\n",
        "numbers = []\n",
        "n = 7\n",
        "\n",
        "numbers += [n]\n",
        "\n",
        "print(numbers)"
      ],
      "metadata": {
        "id": "xfKmbjQ_NHOm"
      },
      "execution_count": null,
      "outputs": []
    },
    {
      "cell_type": "code",
      "source": [
        "n = 5\n",
        "\n",
        "numbers += [n]\n",
        "\n",
        "print(numbers)"
      ],
      "metadata": {
        "id": "upbRh4BeNScp"
      },
      "execution_count": null,
      "outputs": []
    },
    {
      "cell_type": "code",
      "source": [
        "data = {'name': 'Mittul', 'city': 'Ahmedabad', 'course': 'python/Ai/Ml'}"
      ],
      "metadata": {
        "id": "U2mT96ffNXZk"
      },
      "execution_count": null,
      "outputs": []
    },
    {
      "cell_type": "code",
      "source": [
        "for i in data:\n",
        "  print(i)"
      ],
      "metadata": {
        "id": "8vFP7Ax9NklD"
      },
      "execution_count": null,
      "outputs": []
    },
    {
      "cell_type": "code",
      "source": [
        "for i in data:\n",
        "  print(i, data[i])"
      ],
      "metadata": {
        "id": "xdBmpfubPYk6"
      },
      "execution_count": null,
      "outputs": []
    },
    {
      "cell_type": "code",
      "source": [
        "for i in data.values():\n",
        "  print(i)"
      ],
      "metadata": {
        "id": "XEqSovPRPdGr"
      },
      "execution_count": null,
      "outputs": []
    },
    {
      "cell_type": "code",
      "source": [
        "data.values()"
      ],
      "metadata": {
        "id": "AuclsRlfPhlM"
      },
      "execution_count": null,
      "outputs": []
    },
    {
      "cell_type": "code",
      "source": [
        "for i in data.items():\n",
        "  print(i)"
      ],
      "metadata": {
        "id": "wOl7YUvoPmy1"
      },
      "execution_count": null,
      "outputs": []
    },
    {
      "cell_type": "code",
      "source": [
        "data.items()"
      ],
      "metadata": {
        "id": "JXhMySa2PsNb"
      },
      "execution_count": null,
      "outputs": []
    },
    {
      "cell_type": "code",
      "source": [
        "data"
      ],
      "metadata": {
        "id": "Ef2rrYN8PxNH"
      },
      "execution_count": null,
      "outputs": []
    },
    {
      "cell_type": "code",
      "source": [
        "data = [\n",
        "    {\n",
        "        'name': 'jalak',\n",
        "        'city': 'melbourne',\n",
        "        'course': 'python/da'\n",
        "    },\n",
        "    {\n",
        "        'name': 'krupesh',\n",
        "        'city': 'ahmedabad',\n",
        "        'course': 'python/ai/ml'\n",
        "    },\n",
        "    {\n",
        "        'name': 'simarjit',\n",
        "        'city': 'ajmer',\n",
        "        'course': 'python/ai/ml'\n",
        "    }\n",
        "]"
      ],
      "metadata": {
        "id": "L5LjA8LYP322"
      },
      "execution_count": null,
      "outputs": []
    },
    {
      "cell_type": "code",
      "source": [
        "for d in data:\n",
        "  print(d)"
      ],
      "metadata": {
        "id": "KFNEPzdWQCXJ"
      },
      "execution_count": null,
      "outputs": []
    },
    {
      "cell_type": "code",
      "source": [
        "for single_data in data:\n",
        "  for k,v in single_data.items():\n",
        "    print(k,v)"
      ],
      "metadata": {
        "id": "Z_Tfy4PpQaI0"
      },
      "execution_count": null,
      "outputs": []
    },
    {
      "cell_type": "code",
      "source": [
        "for single_data in data:\n",
        "  for k,v in single_data.items():\n",
        "    print(k,v)\n",
        "  print()"
      ],
      "metadata": {
        "id": "2beqpeRZQrNl"
      },
      "execution_count": null,
      "outputs": []
    },
    {
      "cell_type": "code",
      "source": [
        "('Exception Handling in Python')\n",
        "\n",
        "\n"
      ],
      "metadata": {
        "id": "FrnvoDt0Qzcr"
      },
      "execution_count": null,
      "outputs": []
    },
    {
      "cell_type": "code",
      "source": [
        "print('before')\n",
        "\n",
        "print(city)\n",
        "\n",
        "print('after')"
      ],
      "metadata": {
        "id": "1TBHi9Qs88dk"
      },
      "execution_count": null,
      "outputs": []
    },
    {
      "cell_type": "code",
      "source": [
        "print('before')\n",
        "\n",
        "try:\n",
        "  print(city)\n",
        "except:\n",
        "  print('something wrong with city')\n",
        "\n",
        "print('after')"
      ],
      "metadata": {
        "id": "LCBVkF3h9_k7"
      },
      "execution_count": null,
      "outputs": []
    },
    {
      "cell_type": "code",
      "source": [
        "l = [i for i in range(16)]"
      ],
      "metadata": {
        "id": "JnlEVPUl-KEd"
      },
      "execution_count": null,
      "outputs": []
    },
    {
      "cell_type": "code",
      "source": [
        "l"
      ],
      "metadata": {
        "id": "tIMVbE-5-Udi"
      },
      "execution_count": null,
      "outputs": []
    },
    {
      "cell_type": "code",
      "source": [
        "l[5]"
      ],
      "metadata": {
        "id": "sVxHAF-s-qDw"
      },
      "execution_count": null,
      "outputs": []
    },
    {
      "cell_type": "code",
      "source": [
        "l[9]"
      ],
      "metadata": {
        "id": "LKbVG_q--xIH"
      },
      "execution_count": null,
      "outputs": []
    },
    {
      "cell_type": "code",
      "source": [
        "try:\n",
        "  print(city)\n",
        "except Exception as err:\n",
        "  print(err)"
      ],
      "metadata": {
        "id": "qRKxn9w7-4IF"
      },
      "execution_count": null,
      "outputs": []
    },
    {
      "cell_type": "code",
      "source": [
        "try:\n",
        "  index = input('enter an index number to get a value from list: ')\n",
        "\n",
        "  index = int(index)\n",
        "\n",
        "  print(l[index])\n",
        "except Exception as err:\n",
        "  print(err)"
      ],
      "metadata": {
        "id": "Gw3lNkXZ_K6l"
      },
      "execution_count": null,
      "outputs": []
    },
    {
      "cell_type": "code",
      "source": [
        "try:\n",
        "  index = input('enter an index number to get a value from list: ')\n",
        "\n",
        "  index = int(index)\n",
        "\n",
        "  print(l[index])\n",
        "except IndexError as err:\n",
        "  print(f'Given index number {index} is not in range. Please enter between 0 to {len(l)-1}.')\n",
        "except ValueError as err:\n",
        "  print(f'Invalid value entered. You have entered \"{type(index)}\" type value. please enter numberical value as an index number.')"
      ],
      "metadata": {
        "id": "lD2NCKAM_SqI"
      },
      "execution_count": null,
      "outputs": []
    },
    {
      "cell_type": "code",
      "source": [
        "try:\n",
        "  index = input('enter an index number to get a value from list: ')\n",
        "  val_type = 'alphabatic' if not index.isnumeric() else ''\n",
        "  index = int(index)\n",
        "\n",
        "  print(l[index])\n",
        "except IndexError as err:\n",
        "  print(f'Given index number {index} is not in range. Please enter between 0 to {len(l)-1}.')\n",
        "except ValueError as err:\n",
        "  print(f'Invalid value entered. You have entered \"{val_type}\" value. please enter numberical value as an index number.')"
      ],
      "metadata": {
        "id": "ZE75bWFs_eVf"
      },
      "execution_count": null,
      "outputs": []
    },
    {
      "cell_type": "code",
      "source": [
        "try:\n",
        "  index = input('enter an index number to get a value from list: ')\n",
        "\n",
        "  index = int(index)\n",
        "\n",
        "  print(l[index])\n",
        "except (IndexError, ValueError) as err:\n",
        "  print(\"something went wrong\")"
      ],
      "metadata": {
        "id": "_WZOU8zG_p0H"
      },
      "execution_count": null,
      "outputs": []
    },
    {
      "cell_type": "code",
      "source": [
        "try:\n",
        "  index = input('enter an index number to get a value from list: ')\n",
        "  val_type = 'alphabatic' if not index.isnumeric() else ''\n",
        "  index = int(index)\n",
        "\n",
        "  print(l[index])\n",
        "except IndexError as err:\n",
        "  print(f'Given index number {index} is not in range. Please enter between 0 to {len(l)-1}.')\n",
        "except ValueError as err:\n",
        "  print(f'Invalid value entered. You have entered \"{val_type}\" value. please enter numberical value as an index number.')"
      ],
      "metadata": {
        "id": "UFKGyCct_0J_"
      },
      "execution_count": null,
      "outputs": []
    },
    {
      "cell_type": "code",
      "source": [
        "try:\n",
        "  index = input('enter an index number to get a value from list: ')\n",
        "\n",
        "  index = int(index)\n",
        "\n",
        "  print(l[index])\n",
        "except (IndexError, ValueError) as err:\n",
        "  print(\"something went wrong\")"
      ],
      "metadata": {
        "id": "GDQ-FFlNAV-i"
      },
      "execution_count": null,
      "outputs": []
    },
    {
      "cell_type": "code",
      "source": [
        "try:\n",
        "  index = input('enter an index number to get a value from list: ')\n",
        "\n",
        "  index = int(index)\n",
        "\n",
        "  print(l[index])\n",
        "except (IndexError, ValueError) as err:\n",
        "  print(\"something went wrong\")\n",
        "finally:\n",
        "  print('always execute')"
      ],
      "metadata": {
        "id": "HHWMR_7qAed0"
      },
      "execution_count": null,
      "outputs": []
    },
    {
      "cell_type": "code",
      "source": [
        "lra_data = {\n",
        "    100: {\n",
        "        'name': 'simar',\n",
        "        'course': 'ai/ml',\n",
        "        'pin': 1052,\n",
        "        'room': 5,\n",
        "    },\n",
        "    101: {\n",
        "        'name': 'mittul',\n",
        "        'course': 'python/ai/ml',\n",
        "        'pin': 2409,\n",
        "        'room': 5,\n",
        "    },\n",
        "    105: {\n",
        "        'name': 'jalak',\n",
        "        'course': 'da',\n",
        "        'pin': 3267,\n",
        "        'room': 'online',\n",
        "    },\n",
        "    108: {\n",
        "        'name': 'krupesh',\n",
        "        'course': 'ai/ml',\n",
        "        'pin': 4257,\n",
        "        'room': '5',\n",
        "    }\n",
        "}"
      ],
      "metadata": {
        "id": "0KUYsU1vAmkU"
      },
      "execution_count": null,
      "outputs": []
    },
    {
      "cell_type": "code",
      "source": [
        "roll_num = input('enter your roll number: ')\n",
        "roll_num = int(roll_num)\n",
        "\n",
        "if roll_num in lra_data:\n",
        "  print(f\"Welcome {lra_data[roll_num]['name']}!\")\n",
        "  pin = input('enter your pin: ')\n",
        "  pin = int(pin)\n",
        "  if pin == lra_data[roll_num]['pin']:\n",
        "    print(f\"Please go to room no. {lra_data[roll_num]['room']} for your {lra_data[roll_num]['course']} session.\")\n",
        "  else:\n",
        "    print('incorrect roll num.')\n",
        "else:\n",
        "  print('You are not enrolled in LRA.')"
      ],
      "metadata": {
        "id": "8XP43aTmB7y3"
      },
      "execution_count": null,
      "outputs": []
    },
    {
      "cell_type": "code",
      "source": [
        "print('before')\n",
        "\n",
        "assert True, 'conditionally triggered'\n",
        "\n",
        "print('after')"
      ],
      "metadata": {
        "id": "fYSPbNVqCSb9"
      },
      "execution_count": null,
      "outputs": []
    },
    {
      "cell_type": "code",
      "source": [
        "roll_num = input('enter your roll number: ')\n",
        "roll_num = int(roll_num)\n",
        "\n",
        "assert roll_num in lra_data, 'You are not enrolled in LRA.'\n",
        "print(f\"Welcome {lra_data[roll_num]['name']}!\")\n",
        "pin = input('enter your pin: ')\n",
        "pin = int(pin)\n",
        "\n",
        "assert pin == lra_data[roll_num]['pin'], 'incorrect roll num.'\n",
        "print(f\"Please go to room no. {lra_data[roll_num]['room']} for your {lra_data[roll_num]['course']} session.\")"
      ],
      "metadata": {
        "id": "S77BjYNJDIgG"
      },
      "execution_count": null,
      "outputs": []
    },
    {
      "cell_type": "code",
      "source": [
        "roll_num = input('enter your roll number: ')\n",
        "roll_num = int(roll_num)\n",
        "\n",
        "if roll_num in lra_data:\n",
        "  print(f\"Welcome {lra_data[roll_num]['name']}!\")\n",
        "  pin = input('enter your pin: ')\n",
        "  pin = int(pin)\n",
        "  if pin == lra_data[roll_num]['pin']:\n",
        "    print(f\"Please go to room no. {lra_data[roll_num]['room']} for your {lra_data[roll_num]['course']} session.\")\n",
        "  else:\n",
        "    print('incorrect roll num.')\n",
        "else:\n",
        "  print('You are not enrolled in LRA.')"
      ],
      "metadata": {
        "id": "3sHkPRynDsyb"
      },
      "execution_count": null,
      "outputs": []
    },
    {
      "cell_type": "code",
      "source": [
        "('Function in Python')\n",
        "\n",
        "\n"
      ],
      "metadata": {
        "id": "5A-4M1TuBTZM"
      },
      "execution_count": null,
      "outputs": []
    },
    {
      "cell_type": "code",
      "source": [
        "# simple function\n",
        "\n",
        "def hello():\n",
        "  print('hello')"
      ],
      "metadata": {
        "id": "3f198yMTLX8h"
      },
      "execution_count": null,
      "outputs": []
    },
    {
      "cell_type": "code",
      "source": [
        "type(hello)"
      ],
      "metadata": {
        "id": "6TIbSjofLiC5"
      },
      "execution_count": null,
      "outputs": []
    },
    {
      "cell_type": "code",
      "source": [
        "hello"
      ],
      "metadata": {
        "id": "gsaz_n0vNasd"
      },
      "execution_count": null,
      "outputs": []
    },
    {
      "cell_type": "code",
      "source": [
        "hello.__name__"
      ],
      "metadata": {
        "id": "ttI3axu2NfaS"
      },
      "execution_count": null,
      "outputs": []
    },
    {
      "cell_type": "code",
      "source": [
        "a = hello"
      ],
      "metadata": {
        "id": "Fe4zCDSExrh9"
      },
      "execution_count": null,
      "outputs": []
    },
    {
      "cell_type": "code",
      "source": [
        "hello()"
      ],
      "metadata": {
        "id": "z4lebQUiyDP5"
      },
      "execution_count": null,
      "outputs": []
    },
    {
      "cell_type": "code",
      "source": [
        "type(a)"
      ],
      "metadata": {
        "id": "PJq0DwFnyLxx"
      },
      "execution_count": null,
      "outputs": []
    },
    {
      "cell_type": "code",
      "source": [
        "a"
      ],
      "metadata": {
        "id": "SN3Nmz6RzDo2"
      },
      "execution_count": null,
      "outputs": []
    },
    {
      "cell_type": "code",
      "source": [
        "a.__name__"
      ],
      "metadata": {
        "id": "kMhx4rzBzIC8"
      },
      "execution_count": null,
      "outputs": []
    },
    {
      "cell_type": "code",
      "source": [
        "b = hello()"
      ],
      "metadata": {
        "id": "9xdKIb0zzUVJ"
      },
      "execution_count": null,
      "outputs": []
    },
    {
      "cell_type": "code",
      "source": [
        "b"
      ],
      "metadata": {
        "id": "tljSRutyzsX9"
      },
      "execution_count": null,
      "outputs": []
    },
    {
      "cell_type": "code",
      "source": [
        "print(b)"
      ],
      "metadata": {
        "id": "AWTuVxPzzwIn"
      },
      "execution_count": null,
      "outputs": []
    },
    {
      "cell_type": "code",
      "source": [
        "type(b)"
      ],
      "metadata": {
        "id": "-rUJ2pj0z3bv"
      },
      "execution_count": null,
      "outputs": []
    },
    {
      "cell_type": "code",
      "source": [
        "def hello():\n",
        "  return 'hello'"
      ],
      "metadata": {
        "id": "V5947AGC0JU2"
      },
      "execution_count": null,
      "outputs": []
    },
    {
      "cell_type": "code",
      "source": [
        "b = hello()"
      ],
      "metadata": {
        "id": "C5uL7i9C0T3q"
      },
      "execution_count": null,
      "outputs": []
    },
    {
      "cell_type": "code",
      "source": [
        "b"
      ],
      "metadata": {
        "id": "BDWzEKNs0ZwQ"
      },
      "execution_count": null,
      "outputs": []
    },
    {
      "cell_type": "code",
      "source": [
        "def info(name, city, age):\n",
        "  print(f\"name: {name}, city: {city}, age: {age}\")"
      ],
      "metadata": {
        "id": "-d1dhsII0b0R"
      },
      "execution_count": null,
      "outputs": []
    },
    {
      "cell_type": "code",
      "source": [
        "info('Mittul', 'Ahmedabad', 29)"
      ],
      "metadata": {
        "id": "ih_oNoyz0ofN"
      },
      "execution_count": null,
      "outputs": []
    },
    {
      "cell_type": "code",
      "source": [
        "info('Mittul', 29, 'Ahmedabad')\n"
      ],
      "metadata": {
        "id": "2yFtMwXv02Ki"
      },
      "execution_count": null,
      "outputs": []
    },
    {
      "cell_type": "code",
      "source": [
        "info('Ahmedabad', 'Mittul',29)"
      ],
      "metadata": {
        "id": "AO0xilhs1T7t"
      },
      "execution_count": null,
      "outputs": []
    },
    {
      "cell_type": "code",
      "source": [
        "info(29, 'Ahmedabad', 'Mittul')"
      ],
      "metadata": {
        "id": "ix75nMKh1ui2"
      },
      "execution_count": null,
      "outputs": []
    },
    {
      "cell_type": "code",
      "source": [
        "# Arbitrary position argument list - *args\n",
        "\n",
        "def add(*x):\n",
        "  return x"
      ],
      "metadata": {
        "id": "rckhEx3g2BqN"
      },
      "execution_count": null,
      "outputs": []
    },
    {
      "cell_type": "code",
      "source": [
        "add()"
      ],
      "metadata": {
        "id": "qSIKxvgq3VdK"
      },
      "execution_count": null,
      "outputs": []
    },
    {
      "cell_type": "code",
      "source": [
        "a = 1,4,5,2,7,8,9,6,9"
      ],
      "metadata": {
        "id": "DDQ9j9483Zvo"
      },
      "execution_count": null,
      "outputs": []
    },
    {
      "cell_type": "code",
      "source": [
        "a"
      ],
      "metadata": {
        "id": "fxbDtWAo4FpV"
      },
      "execution_count": null,
      "outputs": []
    },
    {
      "cell_type": "code",
      "source": [
        "add(1,4,5,2,7,8,9,6,9)"
      ],
      "metadata": {
        "id": "xrDVrsXG4IaY"
      },
      "execution_count": null,
      "outputs": []
    },
    {
      "cell_type": "code",
      "source": [
        "def add(*x):\n",
        "  s = 0\n",
        "  for i in x:\n",
        "    s += i\n",
        "  return s"
      ],
      "metadata": {
        "id": "mp7j9kCY4SRG"
      },
      "execution_count": null,
      "outputs": []
    },
    {
      "cell_type": "code",
      "source": [
        "add(1,4,5,2,7,8,9,6,9)"
      ],
      "metadata": {
        "id": "mp9WiN-o4X4B"
      },
      "execution_count": null,
      "outputs": []
    },
    {
      "cell_type": "code",
      "source": [
        "sum((1,4,5,2,7,8,9,6,9))"
      ],
      "metadata": {
        "id": "kR3tYhJM4cnt"
      },
      "execution_count": null,
      "outputs": []
    },
    {
      "cell_type": "code",
      "source": [
        "add()"
      ],
      "metadata": {
        "id": "mfwkDXZn40Sq"
      },
      "execution_count": null,
      "outputs": []
    },
    {
      "cell_type": "code",
      "source": [
        "def add(x, y, *numbers):\n",
        "  s = x + y\n",
        "  for i in numbers:\n",
        "    s += i\n",
        "  return s"
      ],
      "metadata": {
        "id": "t_ZBT6Vo45k7"
      },
      "execution_count": null,
      "outputs": []
    },
    {
      "cell_type": "code",
      "source": [
        "add(12, 15)"
      ],
      "metadata": {
        "id": "XBzQggWk4_oZ"
      },
      "execution_count": null,
      "outputs": []
    },
    {
      "cell_type": "code",
      "source": [
        "add(1,4,5,2,7,8,9,6,9)"
      ],
      "metadata": {
        "id": "OsKpm_TS5LKd"
      },
      "execution_count": null,
      "outputs": []
    },
    {
      "cell_type": "code",
      "source": [
        "# Lambda function - anonymous function\n",
        "\n",
        "hello = lambda : print('hello')"
      ],
      "metadata": {
        "id": "WIqyKA7A5aqj"
      },
      "execution_count": null,
      "outputs": []
    },
    {
      "cell_type": "code",
      "source": [
        "hello"
      ],
      "metadata": {
        "id": "o9rDoBrJ5jT3"
      },
      "execution_count": null,
      "outputs": []
    },
    {
      "cell_type": "code",
      "source": [
        "hello()"
      ],
      "metadata": {
        "id": "5kt7Y8SH5m8N"
      },
      "execution_count": null,
      "outputs": []
    },
    {
      "cell_type": "code",
      "source": [
        "lambda : print('hello')"
      ],
      "metadata": {
        "id": "z7r4yV7B5qZo"
      },
      "execution_count": null,
      "outputs": []
    },
    {
      "cell_type": "code",
      "source": [
        "(lambda : print('hello'))()"
      ],
      "metadata": {
        "id": "rb540XDH5wUb"
      },
      "execution_count": null,
      "outputs": []
    },
    {
      "cell_type": "code",
      "source": [
        "hello = lambda : 'hello'"
      ],
      "metadata": {
        "id": "-l-uBzVa50Du"
      },
      "execution_count": null,
      "outputs": []
    },
    {
      "cell_type": "code",
      "source": [
        "hello()"
      ],
      "metadata": {
        "id": "o2mU2enq6wTG"
      },
      "execution_count": null,
      "outputs": []
    },
    {
      "cell_type": "code",
      "source": [
        "add = lambda x, y: x + y"
      ],
      "metadata": {
        "id": "J76IYoCj64_7"
      },
      "execution_count": null,
      "outputs": []
    },
    {
      "cell_type": "code",
      "source": [
        "add(3, 9)"
      ],
      "metadata": {
        "id": "JZBS5H1f682q"
      },
      "execution_count": null,
      "outputs": []
    },
    {
      "cell_type": "code",
      "source": [
        "is_even = lambda x : x % 2 == 0"
      ],
      "metadata": {
        "id": "JPeNpr4c7PR1"
      },
      "execution_count": null,
      "outputs": []
    },
    {
      "cell_type": "code",
      "source": [
        "is_even(5)"
      ],
      "metadata": {
        "id": "WIdDItel7Vm3"
      },
      "execution_count": null,
      "outputs": []
    },
    {
      "cell_type": "code",
      "source": [
        "l"
      ],
      "metadata": {
        "id": "Ge94IS_17jy8"
      },
      "execution_count": null,
      "outputs": []
    },
    {
      "cell_type": "code",
      "source": [
        "for i in l:\n",
        "  if i % 2 == 0:\n",
        "    print(i, end=\" \")"
      ],
      "metadata": {
        "id": "8yPWxaeV74eM"
      },
      "execution_count": null,
      "outputs": []
    },
    {
      "cell_type": "code",
      "source": [
        "def isEven(x):\n",
        "  return x % 2 == 0"
      ],
      "metadata": {
        "id": "XLyl30Fs78jh"
      },
      "execution_count": null,
      "outputs": []
    },
    {
      "cell_type": "code",
      "source": [
        "for i in l:\n",
        "  r = isEven(i)\n",
        "  if r:\n",
        "    print(i)"
      ],
      "metadata": {
        "id": "rtU2PC4983yQ"
      },
      "execution_count": null,
      "outputs": []
    },
    {
      "cell_type": "code",
      "source": [
        "('OBJECT-ORIENTED PROGRAMMING')\n",
        "\n"
      ],
      "metadata": {
        "id": "wpz-FxKR9oWg"
      },
      "execution_count": null,
      "outputs": []
    },
    {
      "cell_type": "code",
      "source": [
        "# simple class\n",
        "\n",
        "class Person:\n",
        "  pass"
      ],
      "metadata": {
        "id": "q-ATSWrcAFnL"
      },
      "execution_count": null,
      "outputs": []
    },
    {
      "cell_type": "code",
      "source": [
        "p = Person()"
      ],
      "metadata": {
        "id": "oMFb_thoAPpB"
      },
      "execution_count": null,
      "outputs": []
    },
    {
      "cell_type": "code",
      "source": [
        "p.name = 'Mittul'"
      ],
      "metadata": {
        "id": "CLTJxE-hAWn6"
      },
      "execution_count": null,
      "outputs": []
    },
    {
      "cell_type": "code",
      "source": [
        "p.city = 'Ahmedabad'"
      ],
      "metadata": {
        "id": "EKx58Q0VAyd6"
      },
      "execution_count": null,
      "outputs": []
    },
    {
      "cell_type": "code",
      "source": [
        "p.__dict__"
      ],
      "metadata": {
        "id": "p6lgahjKA8_S"
      },
      "execution_count": null,
      "outputs": []
    },
    {
      "cell_type": "code",
      "source": [
        "class Person:\n",
        "  def __init__(self):\n",
        "    print('init called')\n",
        "    self.name = None\n",
        "\n",
        "  def get_data(self):\n",
        "    print(self.name)"
      ],
      "metadata": {
        "id": "Tmbat4ErBDCV"
      },
      "execution_count": null,
      "outputs": []
    },
    {
      "cell_type": "code",
      "source": [
        "p = Person()"
      ],
      "metadata": {
        "id": "-km_PUfPBHsL"
      },
      "execution_count": null,
      "outputs": []
    },
    {
      "cell_type": "code",
      "source": [
        "p.get_data()"
      ],
      "metadata": {
        "id": "aGeqln-rCres"
      },
      "execution_count": null,
      "outputs": []
    },
    {
      "cell_type": "code",
      "source": [
        "p.name = 'Mittul'"
      ],
      "metadata": {
        "id": "V4GAe3zjC0Ou"
      },
      "execution_count": null,
      "outputs": []
    },
    {
      "cell_type": "code",
      "source": [
        "p.get_data()"
      ],
      "metadata": {
        "id": "7KtIT3uDC8RZ"
      },
      "execution_count": null,
      "outputs": []
    },
    {
      "cell_type": "code",
      "source": [
        "class Person:\n",
        "  def __init__(self, x):\n",
        "    print('init called')\n",
        "    self.name = x\n",
        "\n",
        "  def get_data(self):\n",
        "    print(self.name)"
      ],
      "metadata": {
        "id": "l1NcQT5zDChm"
      },
      "execution_count": null,
      "outputs": []
    },
    {
      "cell_type": "code",
      "source": [
        "code = '''print('hello')'''\n",
        "eval(code)"
      ],
      "metadata": {
        "id": "nO_pdey7DLET"
      },
      "execution_count": null,
      "outputs": []
    },
    {
      "cell_type": "code",
      "source": [
        "# Inheritance\n",
        "\n",
        "# single level\n",
        "\n",
        "class Parent:\n",
        "  def property(self):\n",
        "    self.car = True\n",
        "    print('parent has car')\n",
        "\n",
        "class Child(Parent):\n",
        "  def set_property(self):\n",
        "    self.cycle = True\n",
        "    print('child has cycle')\n",
        "\n",
        "  def get_property(self):\n",
        "    return self.__dict__"
      ],
      "metadata": {
        "id": "FfBSJbJIDSAn"
      },
      "execution_count": null,
      "outputs": []
    },
    {
      "cell_type": "code",
      "source": [
        "c = Child()"
      ],
      "metadata": {
        "id": "8VFw6nEnDXQR"
      },
      "execution_count": null,
      "outputs": []
    },
    {
      "cell_type": "code",
      "source": [
        "c.property()"
      ],
      "metadata": {
        "id": "Q5Frr7PnDkP2"
      },
      "execution_count": null,
      "outputs": []
    },
    {
      "cell_type": "code",
      "source": [
        "c.get_property()"
      ],
      "metadata": {
        "id": "W4ingP--Doq7"
      },
      "execution_count": null,
      "outputs": []
    },
    {
      "cell_type": "code",
      "source": [
        "c.set_property()"
      ],
      "metadata": {
        "id": "QXi5_3aZD2tO"
      },
      "execution_count": null,
      "outputs": []
    },
    {
      "cell_type": "code",
      "source": [
        "c.get_property()"
      ],
      "metadata": {
        "id": "jozabsLXD6Oh"
      },
      "execution_count": null,
      "outputs": []
    },
    {
      "cell_type": "code",
      "source": [
        "# multi level\n",
        "\n",
        "class GrandParent:\n",
        "  def property(self):\n",
        "    self.bunglow = True\n",
        "    print('grand parent has bunglow')\n",
        "\n",
        "class Parent(GrandParent):\n",
        "  def property(self):\n",
        "    GrandParent.property(self)\n",
        "    self.car = True\n",
        "    print('parent has car')\n",
        "\n",
        "class Child(Parent):\n",
        "  def set_property(self):\n",
        "    self.cycle = True\n",
        "    print('child has cycle')\n",
        "\n",
        "  def get_property(self):\n",
        "    return self.__dict__"
      ],
      "metadata": {
        "id": "EI_KCDb6D-6R"
      },
      "execution_count": null,
      "outputs": []
    },
    {
      "cell_type": "code",
      "source": [
        "c = Child()"
      ],
      "metadata": {
        "id": "Wsn4LOOXEDiP"
      },
      "execution_count": null,
      "outputs": []
    },
    {
      "cell_type": "code",
      "source": [
        "c.get_property()"
      ],
      "metadata": {
        "id": "e68XwZWMEOUh"
      },
      "execution_count": null,
      "outputs": []
    },
    {
      "cell_type": "code",
      "source": [
        "c.property()"
      ],
      "metadata": {
        "id": "yJGQOLBcERg_"
      },
      "execution_count": null,
      "outputs": []
    },
    {
      "cell_type": "code",
      "source": [
        "c.set_property()"
      ],
      "metadata": {
        "id": "W1jBBA0EEVar"
      },
      "execution_count": null,
      "outputs": []
    },
    {
      "cell_type": "code",
      "source": [
        "c.get_property()"
      ],
      "metadata": {
        "id": "RASnMn4NEZHl"
      },
      "execution_count": null,
      "outputs": []
    },
    {
      "cell_type": "code",
      "source": [
        "class GrandParent:\n",
        "  all_properties = {}\n",
        "\n",
        "  def property(self, p):\n",
        "    self.all_properties.setdefault(p, True)\n",
        "    print(f'grand parent has {p}')\n",
        "\n",
        "class Parent(GrandParent):\n",
        "  def p_property(self, p):\n",
        "    self.all_properties[p] = True\n",
        "    print(f'parent has {p}')\n",
        "\n",
        "class Child(Parent):\n",
        "  def c_property(self, p):\n",
        "    self.all_properties[p] = True\n",
        "    print(f'child has {p}')\n",
        "\n",
        "  def get_property(self):\n",
        "    self.all_properties['total'] = len(self.all_properties)\n",
        "    return self.all_properties"
      ],
      "metadata": {
        "id": "uEbGaoFfEdLy"
      },
      "execution_count": null,
      "outputs": []
    },
    {
      "cell_type": "code",
      "source": [
        "c = Child()"
      ],
      "metadata": {
        "id": "0csj1isPEipU"
      },
      "execution_count": null,
      "outputs": []
    },
    {
      "cell_type": "code",
      "source": [
        "c.c_property('toys')"
      ],
      "metadata": {
        "id": "z7JEI4tzEnDz"
      },
      "execution_count": null,
      "outputs": []
    },
    {
      "cell_type": "code",
      "source": [
        "c.p_property('bike')"
      ],
      "metadata": {
        "id": "xnRr6XfXErgf"
      },
      "execution_count": null,
      "outputs": []
    },
    {
      "cell_type": "code",
      "source": [
        "c.property('bunglow')"
      ],
      "metadata": {
        "id": "bomL-_xlEvX7"
      },
      "execution_count": null,
      "outputs": []
    },
    {
      "cell_type": "code",
      "source": [
        "c.get_property()"
      ],
      "metadata": {
        "id": "UhFH091rSrBZ"
      },
      "execution_count": null,
      "outputs": []
    },
    {
      "cell_type": "code",
      "source": [
        "\n",
        "class Parent:\n",
        "  all_properties = {\n",
        "      'parent': [],\n",
        "      'daughter': [],\n",
        "      'son': [],\n",
        "      'total': {}\n",
        "  }\n",
        "\n",
        "\n",
        "  def p_property(self, p):\n",
        "    self.all_properties['parent'].append(p)\n",
        "    self.all_properties['total']['parent'] = len(self.all_properties['parent'])\n",
        "\n",
        "    print(f'parent has {p}')\n",
        "\n",
        "class Daughter(Parent):\n",
        "  def d_property(self, p):\n",
        "    self.all_properties['daughter'].append(p)\n",
        "    self.all_properties['total']['parent'] = len(self.all_properties['daughter'])\n",
        "    print(f'daughter has {p}')\n",
        "\n",
        "  def get_property(self):\n",
        "    return self.all_properties['parent'] + self.all_properties['daughter']\n",
        "\n",
        "class Son(Parent):\n",
        "  def s_property(self, p):\n",
        "    self.all_properties['son'].append(p)\n",
        "    self.all_properties['total']['son'] = len(self.all_properties['son'])\n",
        "    print(f'son has {p}')\n",
        "\n",
        "  def get_property(self):\n",
        "    return self.all_properties['parent'] + self.all_properties['son']"
      ],
      "metadata": {
        "id": "2RzIp2LtTWDs"
      },
      "execution_count": null,
      "outputs": []
    },
    {
      "cell_type": "code",
      "source": [
        "d = Daughter()\n",
        "s = Son()"
      ],
      "metadata": {
        "id": "7zqC3W2GTlt4"
      },
      "execution_count": null,
      "outputs": []
    },
    {
      "cell_type": "code",
      "source": [
        "d.d_property('scooty')"
      ],
      "metadata": {
        "id": "MD8wckPwTrnE"
      },
      "execution_count": null,
      "outputs": []
    },
    {
      "cell_type": "code",
      "source": [
        "d.get_property()"
      ],
      "metadata": {
        "id": "ZQT0ay5ETvle"
      },
      "execution_count": null,
      "outputs": []
    },
    {
      "cell_type": "code",
      "source": [
        "s.s_property('bike')"
      ],
      "metadata": {
        "id": "6Yzjjg6wUCnM"
      },
      "execution_count": null,
      "outputs": []
    },
    {
      "cell_type": "code",
      "source": [
        "s.get_property()"
      ],
      "metadata": {
        "id": "Oa4Ax4WYUJbZ"
      },
      "execution_count": null,
      "outputs": []
    },
    {
      "cell_type": "code",
      "source": [
        "d.p_property('bunglow')"
      ],
      "metadata": {
        "id": "Q05_xuFVUNxQ"
      },
      "execution_count": null,
      "outputs": []
    },
    {
      "cell_type": "code",
      "source": [
        "d.get_property()"
      ],
      "metadata": {
        "id": "t64ROz7iUb6Q"
      },
      "execution_count": null,
      "outputs": []
    },
    {
      "cell_type": "code",
      "source": [
        "d.d_property('car')"
      ],
      "metadata": {
        "id": "lLC68WVsUh4X"
      },
      "execution_count": null,
      "outputs": []
    },
    {
      "cell_type": "code",
      "source": [
        "d.get_property()"
      ],
      "metadata": {
        "id": "Ax8aVV3CUmFO"
      },
      "execution_count": null,
      "outputs": []
    },
    {
      "cell_type": "code",
      "source": [
        "s.get_property()"
      ],
      "metadata": {
        "id": "FSxh4NJlUuph"
      },
      "execution_count": null,
      "outputs": []
    },
    {
      "cell_type": "code",
      "source": [
        "class Father:\n",
        "  def f_property(self):\n",
        "    print('bunglow from father')\n",
        "\n",
        "class Mother:\n",
        "  def m_property(self):\n",
        "    print(\"cash from mother\")\n",
        "\n",
        "class Child(Father, Mother):\n",
        "  def c_property(self):\n",
        "    print('child has toys')"
      ],
      "metadata": {
        "id": "JY9YIAzvUzac"
      },
      "execution_count": null,
      "outputs": []
    },
    {
      "cell_type": "code",
      "source": [
        "c = Child()"
      ],
      "metadata": {
        "id": "7g7x_IQTVF2c"
      },
      "execution_count": null,
      "outputs": []
    },
    {
      "cell_type": "code",
      "source": [
        "c.c_property()"
      ],
      "metadata": {
        "id": "L7g5BRcgVMlX"
      },
      "execution_count": null,
      "outputs": []
    },
    {
      "cell_type": "code",
      "source": [
        "c.f_property()\n",
        "c.m_property()"
      ],
      "metadata": {
        "id": "VxKDcDOTVStq"
      },
      "execution_count": null,
      "outputs": []
    },
    {
      "cell_type": "code",
      "source": [
        "class Parent:\n",
        "  all_properties = {\n",
        "      'parent': [],\n",
        "      'daughter': [],\n",
        "      'son': [],\n",
        "      'total': {}\n",
        "  }\n",
        "\n",
        "\n",
        "  def p_property(self, p):\n",
        "    self.all_properties['parent'].append(p)\n",
        "    self.all_properties['total']['parent'] = len(self.all_properties['parent'])\n",
        "\n",
        "    print(f'parent has {p}')\n",
        "\n",
        "class Daughter(Parent):\n",
        "  def d_property(self, p):\n",
        "    self.all_properties['daughter'].append(p)\n",
        "    self.all_properties['total']['daughter'] = len(self.all_properties['daughter'])\n",
        "    print(f'daughter has {p}')\n",
        "\n",
        "  def get_property(self):\n",
        "    return self.all_properties['parent'] + self.all_properties['daughter']\n",
        "\n",
        "class Son(Parent):\n",
        "  def s_property(self, p):\n",
        "    self.all_properties['son'].append(p)\n",
        "    self.all_properties['total']['son'] = len(self.all_properties['son'])\n",
        "    print(f'son has {p}')\n",
        "\n",
        "  def get_property(self):\n",
        "    return self.all_properties['parent'] + self.all_properties['son']\n",
        "\n",
        "class ViewProperty(Daughter, Son):\n",
        "  def get_property(self):\n",
        "    return self.all_properties"
      ],
      "metadata": {
        "id": "NyTy5RRPVWvt"
      },
      "execution_count": null,
      "outputs": []
    },
    {
      "cell_type": "code",
      "source": [
        "s = ViewProperty()"
      ],
      "metadata": {
        "id": "Sn8ogBm6VfCw"
      },
      "execution_count": null,
      "outputs": []
    },
    {
      "cell_type": "code",
      "source": [
        "s.get_property()"
      ],
      "metadata": {
        "id": "kTBiwSM4Vj4U"
      },
      "execution_count": null,
      "outputs": []
    },
    {
      "cell_type": "code",
      "source": [
        "s.p_property('car')\n",
        "s.p_property('bunglow')"
      ],
      "metadata": {
        "id": "0-nMDHLlV6kE"
      },
      "execution_count": null,
      "outputs": []
    },
    {
      "cell_type": "code",
      "source": [
        "s.d_property('scooty')\n",
        "s.d_property('car 2')"
      ],
      "metadata": {
        "id": "Y7cAJXYNWCuR"
      },
      "execution_count": null,
      "outputs": []
    },
    {
      "cell_type": "code",
      "source": [
        "s.s_property('cycle')"
      ],
      "metadata": {
        "id": "ozSvjGkMWIRg"
      },
      "execution_count": null,
      "outputs": []
    },
    {
      "cell_type": "code",
      "source": [
        "s.get_property()"
      ],
      "metadata": {
        "id": "N7mxP4ZjWPxB"
      },
      "execution_count": null,
      "outputs": []
    },
    {
      "cell_type": "code",
      "source": [
        "class A:\n",
        "  def add(self, x, y):\n",
        "    print('add from class A')\n",
        "    return x + y\n",
        "\n",
        "class B(A):\n",
        "  def add(self, x, y):\n",
        "    # using super() method\n",
        "\n",
        "    super().add(x, y)\n",
        "\n",
        "    print('add from class B')\n",
        "    return x + y"
      ],
      "metadata": {
        "id": "F5BmpYBSWmIJ"
      },
      "execution_count": null,
      "outputs": []
    },
    {
      "cell_type": "code",
      "source": [
        "c = B()"
      ],
      "metadata": {
        "id": "9IFCtdImXjnU"
      },
      "execution_count": null,
      "outputs": []
    },
    {
      "cell_type": "code",
      "source": [
        "c.add(1,13)"
      ],
      "metadata": {
        "id": "f8uumm7kXogS"
      },
      "execution_count": null,
      "outputs": []
    },
    {
      "cell_type": "code",
      "source": [
        "class A:\n",
        "  def add(self, x, y):\n",
        "    print('add from class A')\n",
        "    return x + y\n",
        "\n",
        "class B(A):\n",
        "  def add(self, x, y):\n",
        "    # using class name\n",
        "\n",
        "    A.add(self, x, y)\n",
        "\n",
        "    print('add from class B')\n",
        "    return x + y"
      ],
      "metadata": {
        "id": "mfPX0p8OX_6e"
      },
      "execution_count": null,
      "outputs": []
    },
    {
      "cell_type": "code",
      "source": [
        "c = B()\n",
        "c.add(1,13)"
      ],
      "metadata": {
        "id": "uavYLJARYICb"
      },
      "execution_count": null,
      "outputs": []
    },
    {
      "cell_type": "code",
      "source": [
        "class Parent:\n",
        "  all_properties = {\n",
        "      'parent': [],\n",
        "      'daughter': [],\n",
        "      'son': [],\n",
        "      'total': {}\n",
        "  }\n",
        "\n",
        "\n",
        "  def property(self, p):\n",
        "    self.all_properties['parent'].append(p)\n",
        "    self.all_properties['total']['parent'] = len(self.all_properties['parent'])\n",
        "\n",
        "    print(f'parent has {p}')\n",
        "\n",
        "class Daughter(Parent):\n",
        "  def property(self, p):\n",
        "    super().property(p)\n",
        "\n",
        "    self.all_properties['daughter'].append(p)\n",
        "    self.all_properties['total']['daughter'] = len(self.all_properties['daughter'])\n",
        "    print(f'daughter has {p}')\n",
        "\n",
        "  def get_property(self):\n",
        "    return self.all_properties['parent'] + self.all_properties['daughter']\n",
        "\n",
        "class Son(Parent):\n",
        "  def property(self, p):\n",
        "    super().property(p)\n",
        "\n",
        "    self.all_properties['son'].append(p)\n",
        "    self.all_properties['total']['son'] = len(self.all_properties['son'])\n",
        "    print(f'son has {p}')\n",
        "\n",
        "  def get_property(self):\n",
        "    return self.all_properties['parent'] + self.all_properties['son']"
      ],
      "metadata": {
        "id": "4kvguSDsYPQv"
      },
      "execution_count": null,
      "outputs": []
    },
    {
      "cell_type": "code",
      "source": [
        "s = Son()\n",
        "d = Daughter()"
      ],
      "metadata": {
        "id": "ukkeu69eYami"
      },
      "execution_count": null,
      "outputs": []
    },
    {
      "cell_type": "code",
      "source": [
        "s.get_property()"
      ],
      "metadata": {
        "id": "8MOIdV0GYfiI"
      },
      "execution_count": null,
      "outputs": []
    },
    {
      "cell_type": "code",
      "source": [
        "d.get_property()"
      ],
      "metadata": {
        "id": "f-z7ElARYjPG"
      },
      "execution_count": null,
      "outputs": []
    },
    {
      "cell_type": "code",
      "source": [
        "s.all_properties"
      ],
      "metadata": {
        "id": "D5Qg1OZ2Yp76"
      },
      "execution_count": null,
      "outputs": []
    },
    {
      "cell_type": "code",
      "source": [
        "s.property('bunglow')"
      ],
      "metadata": {
        "id": "8VVNclbGYtid"
      },
      "execution_count": null,
      "outputs": []
    },
    {
      "cell_type": "code",
      "source": [
        "d.property('scooty')"
      ],
      "metadata": {
        "id": "EwjIwvkDYyLI"
      },
      "execution_count": null,
      "outputs": []
    },
    {
      "cell_type": "code",
      "source": [
        "s.all_properties"
      ],
      "metadata": {
        "id": "2YLKZF-dY2zj"
      },
      "execution_count": null,
      "outputs": []
    },
    {
      "cell_type": "code",
      "source": [
        "('Numerical Computing with NumPy')\n",
        "\n",
        "\n",
        "\n"
      ],
      "metadata": {
        "id": "kmxmKoOmY9Sw"
      },
      "execution_count": null,
      "outputs": []
    },
    {
      "cell_type": "code",
      "source": [
        "import numpy"
      ],
      "metadata": {
        "id": "nGala0HleBrg"
      },
      "execution_count": null,
      "outputs": []
    },
    {
      "cell_type": "code",
      "source": [
        "import numpy as np"
      ],
      "metadata": {
        "id": "ZRwTdlKj2Nwp"
      },
      "execution_count": null,
      "outputs": []
    },
    {
      "cell_type": "code",
      "source": [
        "('Creating Arrays from Python Lists')\n",
        "\n"
      ],
      "metadata": {
        "id": "zOM_LRbXKYCO"
      },
      "execution_count": null,
      "outputs": []
    },
    {
      "cell_type": "code",
      "source": [
        "mylist = [3,6,9,5,4]"
      ],
      "metadata": {
        "id": "OL9dBZyq4NEB"
      },
      "execution_count": null,
      "outputs": []
    },
    {
      "cell_type": "code",
      "source": [
        "np.array(mylist)"
      ],
      "metadata": {
        "id": "KP2E0dXoAG1t",
        "colab": {
          "base_uri": "https://localhost:8080/"
        },
        "outputId": "90c13600-f386-4d06-cb1c-ca426898fd3c"
      },
      "execution_count": null,
      "outputs": [
        {
          "output_type": "execute_result",
          "data": {
            "text/plain": [
              "array([3, 6, 9, 5, 4])"
            ]
          },
          "metadata": {},
          "execution_count": 17
        }
      ]
    },
    {
      "cell_type": "code",
      "source": [
        "np.array([5.2, 3, 5, 9])"
      ],
      "metadata": {
        "id": "QEbVazvQAPeP",
        "colab": {
          "base_uri": "https://localhost:8080/"
        },
        "outputId": "f00b50bb-197f-43cd-eb1c-e7c84fbf2268"
      },
      "execution_count": null,
      "outputs": [
        {
          "output_type": "execute_result",
          "data": {
            "text/plain": [
              "array([5.2, 3. , 5. , 9. ])"
            ]
          },
          "metadata": {},
          "execution_count": 18
        }
      ]
    },
    {
      "cell_type": "code",
      "source": [
        "mylist"
      ],
      "metadata": {
        "id": "Uog75sj-AlTN",
        "colab": {
          "base_uri": "https://localhost:8080/"
        },
        "outputId": "c88c6d6d-6f11-4b4d-adb9-3db97cdc566e"
      },
      "execution_count": null,
      "outputs": [
        {
          "output_type": "execute_result",
          "data": {
            "text/plain": [
              "[3, 6, 9, 5, 4]"
            ]
          },
          "metadata": {},
          "execution_count": 19
        }
      ]
    },
    {
      "cell_type": "code",
      "source": [
        "np.array(mylist, dtype=float)"
      ],
      "metadata": {
        "id": "HNSy_HrkBNpV",
        "colab": {
          "base_uri": "https://localhost:8080/"
        },
        "outputId": "8a230d88-08ec-4313-a68d-09aa2fbfca16"
      },
      "execution_count": null,
      "outputs": [
        {
          "output_type": "execute_result",
          "data": {
            "text/plain": [
              "array([3., 6., 9., 5., 4.])"
            ]
          },
          "metadata": {},
          "execution_count": 20
        }
      ]
    },
    {
      "cell_type": "code",
      "source": [
        "np.array(mylist, dtype='float32')"
      ],
      "metadata": {
        "id": "WjCCNqgcBSXD",
        "colab": {
          "base_uri": "https://localhost:8080/"
        },
        "outputId": "b3659913-bc7f-46a9-d401-2e3ef37d5acd"
      },
      "execution_count": null,
      "outputs": [
        {
          "output_type": "execute_result",
          "data": {
            "text/plain": [
              "array([[ 3.,  4.,  5.],\n",
              "       [ 7.,  8.,  9.],\n",
              "       [ 9., 10., 11.]], dtype=float32)"
            ]
          },
          "metadata": {},
          "execution_count": 24
        }
      ]
    },
    {
      "cell_type": "code",
      "source": [
        "\n",
        "mylist = [range(i, i + 3) for i in [3,7,9]]"
      ],
      "metadata": {
        "id": "rkISx1nwBkLX"
      },
      "execution_count": null,
      "outputs": []
    },
    {
      "cell_type": "code",
      "source": [
        "mylist"
      ],
      "metadata": {
        "id": "Cf1rmN8-B7fD",
        "colab": {
          "base_uri": "https://localhost:8080/"
        },
        "outputId": "2ed8b464-43d7-4a86-acf1-a2095e326b67"
      },
      "execution_count": null,
      "outputs": [
        {
          "output_type": "execute_result",
          "data": {
            "text/plain": [
              "[range(3, 6), range(7, 10), range(9, 12)]"
            ]
          },
          "metadata": {},
          "execution_count": 26
        }
      ]
    },
    {
      "cell_type": "code",
      "source": [
        "('Creating Arrays from Scratch')\n",
        "\n"
      ],
      "metadata": {
        "id": "pfVQinNxB_79"
      },
      "execution_count": null,
      "outputs": []
    },
    {
      "cell_type": "code",
      "source": [
        "np.zeros(5, dtype=int)"
      ],
      "metadata": {
        "id": "Mr3wxDYkLEyU",
        "colab": {
          "base_uri": "https://localhost:8080/"
        },
        "outputId": "d3a188e0-ce8f-4578-cc87-3cd0a8555eec"
      },
      "execution_count": null,
      "outputs": [
        {
          "output_type": "execute_result",
          "data": {
            "text/plain": [
              "array([0, 0, 0, 0, 0])"
            ]
          },
          "metadata": {},
          "execution_count": 27
        }
      ]
    },
    {
      "cell_type": "code",
      "source": [
        "np.zeros(5)"
      ],
      "metadata": {
        "id": "BNB6FdGxLOfz"
      },
      "execution_count": null,
      "outputs": []
    },
    {
      "cell_type": "code",
      "source": [
        "np.zeros((3,7), dtype=float)"
      ],
      "metadata": {
        "id": "77g1Fk1rLWI3",
        "colab": {
          "base_uri": "https://localhost:8080/"
        },
        "outputId": "583bcc30-d8a9-429e-ea7a-4fe331cb98d7"
      },
      "execution_count": null,
      "outputs": [
        {
          "output_type": "execute_result",
          "data": {
            "text/plain": [
              "array([[0., 0., 0., 0., 0., 0., 0.],\n",
              "       [0., 0., 0., 0., 0., 0., 0.],\n",
              "       [0., 0., 0., 0., 0., 0., 0.]])"
            ]
          },
          "metadata": {},
          "execution_count": 28
        }
      ]
    },
    {
      "cell_type": "code",
      "source": [
        "('Some vocabulary')\n",
        "\n"
      ],
      "metadata": {
        "id": "7iBnUctaLnYw"
      },
      "execution_count": null,
      "outputs": []
    },
    {
      "cell_type": "code",
      "source": [
        "a = np.zeros((3,7))\n",
        "a"
      ],
      "metadata": {
        "id": "hA0OZOoiLz7t",
        "colab": {
          "base_uri": "https://localhost:8080/"
        },
        "outputId": "31e00d8c-2232-4568-d29b-38bfbdc8112d"
      },
      "execution_count": null,
      "outputs": [
        {
          "output_type": "execute_result",
          "data": {
            "text/plain": [
              "array([[0., 0., 0., 0., 0., 0., 0.],\n",
              "       [0., 0., 0., 0., 0., 0., 0.],\n",
              "       [0., 0., 0., 0., 0., 0., 0.]])"
            ]
          },
          "metadata": {},
          "execution_count": 29
        }
      ]
    },
    {
      "cell_type": "code",
      "source": [
        "a"
      ],
      "metadata": {
        "id": "9oJQ-vnrL5_r",
        "colab": {
          "base_uri": "https://localhost:8080/"
        },
        "outputId": "df277dc0-cc85-4b97-d147-b9354b4b2666"
      },
      "execution_count": null,
      "outputs": [
        {
          "output_type": "execute_result",
          "data": {
            "text/plain": [
              "array([[0., 0., 0., 0., 0., 0., 0.],\n",
              "       [0., 0., 0., 0., 0., 0., 0.],\n",
              "       [0., 0., 0., 0., 0., 0., 0.]])"
            ]
          },
          "metadata": {},
          "execution_count": 30
        }
      ]
    },
    {
      "cell_type": "code",
      "source": [
        "a.shape"
      ],
      "metadata": {
        "id": "7Ag9ZN-TMBlg",
        "colab": {
          "base_uri": "https://localhost:8080/"
        },
        "outputId": "49e8408f-985b-4721-c4a7-a496694662f4"
      },
      "execution_count": null,
      "outputs": [
        {
          "output_type": "execute_result",
          "data": {
            "text/plain": [
              "(3, 7)"
            ]
          },
          "metadata": {},
          "execution_count": 31
        }
      ]
    },
    {
      "cell_type": "code",
      "source": [
        "a.ndim"
      ],
      "metadata": {
        "id": "yZuV3UUfMEut",
        "colab": {
          "base_uri": "https://localhost:8080/"
        },
        "outputId": "22bbad17-8e46-40a0-b1e6-cab13929bfca"
      },
      "execution_count": null,
      "outputs": [
        {
          "output_type": "execute_result",
          "data": {
            "text/plain": [
              "2"
            ]
          },
          "metadata": {},
          "execution_count": 32
        }
      ]
    },
    {
      "cell_type": "code",
      "source": [
        "len(a.shape)"
      ],
      "metadata": {
        "id": "hLt1gaQ9MLXO",
        "colab": {
          "base_uri": "https://localhost:8080/"
        },
        "outputId": "90554e6d-4ed2-47bd-9c64-0100607519d4"
      },
      "execution_count": null,
      "outputs": [
        {
          "output_type": "execute_result",
          "data": {
            "text/plain": [
              "2"
            ]
          },
          "metadata": {},
          "execution_count": 33
        }
      ]
    },
    {
      "cell_type": "code",
      "source": [
        "a.size"
      ],
      "metadata": {
        "id": "_0TMhZHnMQSo",
        "colab": {
          "base_uri": "https://localhost:8080/"
        },
        "outputId": "1d31efce-1285-4901-9296-6161bd6b7862"
      },
      "execution_count": null,
      "outputs": [
        {
          "output_type": "execute_result",
          "data": {
            "text/plain": [
              "21"
            ]
          },
          "metadata": {},
          "execution_count": 34
        }
      ]
    },
    {
      "cell_type": "code",
      "source": [
        "('N-dimensional arrays')\n",
        "\n"
      ],
      "metadata": {
        "id": "g1v19oqZply7"
      },
      "execution_count": null,
      "outputs": []
    },
    {
      "cell_type": "code",
      "source": [
        "np.zeros((1,5,9))"
      ],
      "metadata": {
        "id": "Me0zNdoVqxBF",
        "colab": {
          "base_uri": "https://localhost:8080/"
        },
        "outputId": "18a09b09-0e19-4dba-d85b-ac3ec8f9dfbd"
      },
      "execution_count": null,
      "outputs": [
        {
          "output_type": "execute_result",
          "data": {
            "text/plain": [
              "array([[[0., 0., 0., 0., 0., 0., 0., 0., 0.],\n",
              "        [0., 0., 0., 0., 0., 0., 0., 0., 0.],\n",
              "        [0., 0., 0., 0., 0., 0., 0., 0., 0.],\n",
              "        [0., 0., 0., 0., 0., 0., 0., 0., 0.],\n",
              "        [0., 0., 0., 0., 0., 0., 0., 0., 0.]]])"
            ]
          },
          "metadata": {},
          "execution_count": 35
        }
      ]
    },
    {
      "cell_type": "code",
      "source": [
        "np.empty((4,7))"
      ],
      "metadata": {
        "id": "mdpBEt5dq_Ci",
        "colab": {
          "base_uri": "https://localhost:8080/"
        },
        "outputId": "bc95e668-45a1-4b36-da42-629d10966625"
      },
      "execution_count": null,
      "outputs": [
        {
          "output_type": "execute_result",
          "data": {
            "text/plain": [
              "array([[ 4.84501307e-310,  0.00000000e+000, -4.67428677e-094,\n",
              "         6.90575436e-310,  6.90575437e-310,  9.78885619e+096,\n",
              "         6.90575437e-310],\n",
              "       [ 6.90575437e-310, -4.15435659e-241,  6.90575437e-310,\n",
              "         6.90575437e-310,  2.40247245e-281,  6.90575437e-310,\n",
              "         6.90575437e-310],\n",
              "       [-5.72866358e+231,  6.90575437e-310,  6.90575470e-310,\n",
              "         2.46174047e-132,  6.90575437e-310,  6.90575437e-310,\n",
              "         7.74767029e+140],\n",
              "       [ 6.90575437e-310,  6.90575437e-310,  1.36352965e+212,\n",
              "         6.90575437e-310,  6.90575437e-310,  1.60738911e-279,\n",
              "         6.90575587e-310]])"
            ]
          },
          "metadata": {},
          "execution_count": 36
        }
      ]
    },
    {
      "cell_type": "code",
      "source": [
        "('np.array')\n",
        "\n"
      ],
      "metadata": {
        "id": "yR7D3w2preWW"
      },
      "execution_count": null,
      "outputs": []
    },
    {
      "cell_type": "code",
      "source": [
        "np.array([[1,5,7,9], [10, 30, 50, 90]])"
      ],
      "metadata": {
        "id": "T76G3V04rq_-",
        "colab": {
          "base_uri": "https://localhost:8080/"
        },
        "outputId": "15d82e8e-c728-447e-fdb4-9dfc28c04beb"
      },
      "execution_count": null,
      "outputs": [
        {
          "output_type": "execute_result",
          "data": {
            "text/plain": [
              "array([[ 1,  5,  7,  9],\n",
              "       [10, 30, 50, 90]])"
            ]
          },
          "metadata": {},
          "execution_count": 37
        }
      ]
    },
    {
      "cell_type": "code",
      "source": [
        "('np.arange')\n",
        "\n"
      ],
      "metadata": {
        "id": "2EJN6rNhr_tj"
      },
      "execution_count": null,
      "outputs": []
    },
    {
      "cell_type": "code",
      "source": [
        "np.arange(1, 9)"
      ],
      "metadata": {
        "id": "m0Aw2_7WsSBx",
        "colab": {
          "base_uri": "https://localhost:8080/"
        },
        "outputId": "a1c80c91-4efa-4d76-b6f5-6ddea4d62e60"
      },
      "execution_count": null,
      "outputs": [
        {
          "output_type": "execute_result",
          "data": {
            "text/plain": [
              "array([1, 2, 3, 4, 5, 6, 7, 8])"
            ]
          },
          "metadata": {},
          "execution_count": 38
        }
      ]
    },
    {
      "cell_type": "code",
      "source": [
        "np.arange(1.0, 9.0)"
      ],
      "metadata": {
        "id": "9sRjo2uHsXnt",
        "colab": {
          "base_uri": "https://localhost:8080/"
        },
        "outputId": "b02dc072-38cd-4e91-b827-37a9730c8013"
      },
      "execution_count": null,
      "outputs": [
        {
          "output_type": "execute_result",
          "data": {
            "text/plain": [
              "array([1., 2., 3., 4., 5., 6., 7., 8.])"
            ]
          },
          "metadata": {},
          "execution_count": 39
        }
      ]
    },
    {
      "cell_type": "code",
      "source": [
        "np.arange(1, 9, 0.7)"
      ],
      "metadata": {
        "id": "S5Y-gRdJsrf5",
        "colab": {
          "base_uri": "https://localhost:8080/"
        },
        "outputId": "fff4ac13-9bd5-4fbd-8d68-5129ea65559a"
      },
      "execution_count": null,
      "outputs": [
        {
          "output_type": "execute_result",
          "data": {
            "text/plain": [
              "array([1. , 1.7, 2.4, 3.1, 3.8, 4.5, 5.2, 5.9, 6.6, 7.3, 8. , 8.7])"
            ]
          },
          "metadata": {},
          "execution_count": 40
        }
      ]
    },
    {
      "cell_type": "code",
      "source": [
        "('np.linspace')\n",
        "\n"
      ],
      "metadata": {
        "id": "UL0TGXaws0Cd"
      },
      "execution_count": null,
      "outputs": []
    },
    {
      "cell_type": "code",
      "source": [
        "np.linspace(0, 1, 6, 9, 16)"
      ],
      "metadata": {
        "id": "Yq4zaf6otMiW",
        "colab": {
          "base_uri": "https://localhost:8080/"
        },
        "outputId": "fda0357e-6c13-46e2-993e-73af7ce21136"
      },
      "execution_count": null,
      "outputs": [
        {
          "output_type": "execute_result",
          "data": {
            "text/plain": [
              "(array([0. , 0.2, 0.4, 0.6, 0.8, 1. ]), 0.2)"
            ]
          },
          "metadata": {},
          "execution_count": 41
        }
      ]
    },
    {
      "cell_type": "code",
      "source": [
        "('np.rand and np.randn')\n",
        "\n"
      ],
      "metadata": {
        "id": "hf90zzhktX-G"
      },
      "execution_count": null,
      "outputs": []
    },
    {
      "cell_type": "code",
      "source": [
        "np.random.rand(1,9)"
      ],
      "metadata": {
        "id": "xv_6kC48tt_B",
        "colab": {
          "base_uri": "https://localhost:8080/"
        },
        "outputId": "52966bb9-391c-47e4-dd6f-94a80349da30"
      },
      "execution_count": null,
      "outputs": [
        {
          "output_type": "execute_result",
          "data": {
            "text/plain": [
              "array([[0.77572313, 0.13332709, 0.96746947, 0.06894964, 0.58147558,\n",
              "        0.1571653 , 0.81353269, 0.07737795, 0.10013228]])"
            ]
          },
          "metadata": {},
          "execution_count": 42
        }
      ]
    },
    {
      "cell_type": "code",
      "source": [
        "np.random.rand(1,9)"
      ],
      "metadata": {
        "id": "7XOv1qNNuLkB",
        "colab": {
          "base_uri": "https://localhost:8080/"
        },
        "outputId": "b7f4087b-cf4a-4e3b-f673-790d545dc09a"
      },
      "execution_count": null,
      "outputs": [
        {
          "output_type": "execute_result",
          "data": {
            "text/plain": [
              "array([[0.89350259, 0.12330521, 0.97987545, 0.63230105, 0.23527456,\n",
              "        0.45426241, 0.89968218, 0.58243234, 0.57375727]])"
            ]
          },
          "metadata": {},
          "execution_count": 43
        }
      ]
    },
    {
      "cell_type": "code",
      "source": [
        "np.random.randn(1,9)"
      ],
      "metadata": {
        "id": "So-SrUWMuish",
        "colab": {
          "base_uri": "https://localhost:8080/"
        },
        "outputId": "92b7a58d-62ca-4f65-f4c0-44a6f90225a5"
      },
      "execution_count": null,
      "outputs": [
        {
          "output_type": "execute_result",
          "data": {
            "text/plain": [
              "array([[ 1.18170051,  0.02869723,  0.89361444, -1.00571342,  0.37348682,\n",
              "         0.80111627,  0.15471774,  1.30733771,  1.59090059]])"
            ]
          },
          "metadata": {},
          "execution_count": 44
        }
      ]
    },
    {
      "cell_type": "code",
      "source": [
        "%matplotlib inline\n",
        "import matplotlib.pyplot as plt"
      ],
      "metadata": {
        "id": "aqFHzWULu320"
      },
      "execution_count": null,
      "outputs": []
    },
    {
      "cell_type": "code",
      "source": [
        "plt.hist(np.random.rand(100000), density=True, bins=100, histtype=\"step\", color=\"blue\", label=\"rand\")\n",
        "plt.hist(np.random.randn(100000), density=True, bins=100, histtype=\"step\", color=\"red\", label=\"randn\")\n",
        "plt.axis([-2.5, 2.5, 0, 1.1])\n",
        "plt.legend(loc = \"upper left\")\n",
        "plt.title(\"Random distributions\")\n",
        "plt.xlabel(\"Value\")\n",
        "plt.ylabel(\"Density\")\n",
        "plt.show()"
      ],
      "metadata": {
        "id": "tYT3MvfXv7kg",
        "colab": {
          "base_uri": "https://localhost:8080/",
          "height": 472
        },
        "outputId": "ff91e612-2ca6-4979-9849-5dc4714490ae"
      },
      "execution_count": null,
      "outputs": [
        {
          "output_type": "display_data",
          "data": {
            "text/plain": [
              "<Figure size 640x480 with 1 Axes>"
            ],
            "image/png": "[encoded data removed]"
          },
          "metadata": {}
        }
      ]
    },
    {
      "cell_type": "code",
      "source": [
        "('np.fromfunction')\n",
        "\n"
      ],
      "metadata": {
        "id": "7rJkYmTgwUia"
      },
      "execution_count": null,
      "outputs": []
    },
    {
      "cell_type": "code",
      "source": [
        "def my_function(z, x, y):\n",
        "    return x + 10 * y + 100 * z"
      ],
      "metadata": {
        "id": "P69O2JpNwa5k"
      },
      "execution_count": null,
      "outputs": []
    },
    {
      "cell_type": "code",
      "source": [
        "my_function(1,5,11)"
      ],
      "metadata": {
        "id": "nkN4f43CwqZI",
        "colab": {
          "base_uri": "https://localhost:8080/"
        },
        "outputId": "38e9033d-2791-4078-b33b-647a137ce50f"
      },
      "execution_count": null,
      "outputs": [
        {
          "output_type": "execute_result",
          "data": {
            "text/plain": [
              "215"
            ]
          },
          "metadata": {},
          "execution_count": 48
        }
      ]
    },
    {
      "cell_type": "code",
      "source": [
        "np.fromfunction(my_function, (1, 6, 15))"
      ],
      "metadata": {
        "id": "OMlC77cGrJ6n",
        "colab": {
          "base_uri": "https://localhost:8080/"
        },
        "outputId": "541ce8c6-3658-49b8-f109-3db2092b37c6"
      },
      "execution_count": null,
      "outputs": [
        {
          "output_type": "execute_result",
          "data": {
            "text/plain": [
              "array([[[  0.,  10.,  20.,  30.,  40.,  50.,  60.,  70.,  80.,  90.,\n",
              "         100., 110., 120., 130., 140.],\n",
              "        [  1.,  11.,  21.,  31.,  41.,  51.,  61.,  71.,  81.,  91.,\n",
              "         101., 111., 121., 131., 141.],\n",
              "        [  2.,  12.,  22.,  32.,  42.,  52.,  62.,  72.,  82.,  92.,\n",
              "         102., 112., 122., 132., 142.],\n",
              "        [  3.,  13.,  23.,  33.,  43.,  53.,  63.,  73.,  83.,  93.,\n",
              "         103., 113., 123., 133., 143.],\n",
              "        [  4.,  14.,  24.,  34.,  44.,  54.,  64.,  74.,  84.,  94.,\n",
              "         104., 114., 124., 134., 144.],\n",
              "        [  5.,  15.,  25.,  35.,  45.,  55.,  65.,  75.,  85.,  95.,\n",
              "         105., 115., 125., 135., 145.]]])"
            ]
          },
          "metadata": {},
          "execution_count": 49
        }
      ]
    },
    {
      "cell_type": "code",
      "source": [
        "('Array data')\n",
        "\n",
        "\n"
      ],
      "metadata": {
        "id": "IstkX5tAlEiS"
      },
      "execution_count": null,
      "outputs": []
    },
    {
      "cell_type": "code",
      "source": [
        "c = np.arange(1, 19)\n",
        "print(c.dtype, c)"
      ],
      "metadata": {
        "colab": {
          "base_uri": "https://localhost:8080/"
        },
        "id": "I8cQXOUonNx5",
        "outputId": "7f6691cf-adab-4660-b664-7b3c02685e16"
      },
      "execution_count": null,
      "outputs": [
        {
          "output_type": "stream",
          "name": "stdout",
          "text": [
            "int64 [ 1  2  3  4  5  6  7  8  9 10 11 12 13 14 15 16 17 18]\n"
          ]
        }
      ]
    },
    {
      "cell_type": "code",
      "source": [
        "c = np.arange(1.0, 9.0)\n",
        "print(c.dtype, c)"
      ],
      "metadata": {
        "colab": {
          "base_uri": "https://localhost:8080/"
        },
        "id": "5RPGHf20nVCb",
        "outputId": "3bfab513-f504-440b-9299-eee57699ce0e"
      },
      "execution_count": null,
      "outputs": [
        {
          "output_type": "stream",
          "name": "stdout",
          "text": [
            "float64 [1. 2. 3. 4. 5. 6. 7. 8.]\n"
          ]
        }
      ]
    },
    {
      "cell_type": "code",
      "source": [
        "d = np.arange(1, 11, dtype=np.complex64)\n",
        "\n",
        "print(d.dtype, d)"
      ],
      "metadata": {
        "colab": {
          "base_uri": "https://localhost:8080/"
        },
        "id": "ZaTPV1XhuqRJ",
        "outputId": "002337ca-0fbe-4c04-b5dc-5243a68ba042"
      },
      "execution_count": null,
      "outputs": [
        {
          "output_type": "stream",
          "name": "stdout",
          "text": [
            "complex64 [ 1.+0.j  2.+0.j  3.+0.j  4.+0.j  5.+0.j  6.+0.j  7.+0.j  8.+0.j  9.+0.j\n",
            " 10.+0.j]\n"
          ]
        }
      ]
    },
    {
      "cell_type": "code",
      "source": [],
      "metadata": {
        "id": "ciczR3Ouuzg2"
      },
      "execution_count": null,
      "outputs": []
    }
  ]
}